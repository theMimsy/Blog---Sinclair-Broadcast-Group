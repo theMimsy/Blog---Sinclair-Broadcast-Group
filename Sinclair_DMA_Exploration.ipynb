{
 "cells": [
  {
   "cell_type": "markdown",
   "metadata": {},
   "source": [
    "# Sinclair DMA Exploration\n",
    "\n",
    "This JUPYTER notebook explores Nielson Designated Market Areas (DMAs) and their application to the Sinclair Broadcast Group. "
   ]
  },
  {
   "cell_type": "code",
   "execution_count": 270,
   "metadata": {},
   "outputs": [],
   "source": [
    "# Load up some libraries\n",
    "library(dplyr, warn.conflicts = FALSE)\n",
    "library(geojsonio)\n",
    "library(ggplot2)\n",
    "library(broom)\n",
    "library(rjson)\n",
    "library(sp)\n",
    "library(rgdal)\n",
    "library(maps)\n",
    "library(mapdata)\n",
    "library(RColorBrewer)"
   ]
  },
  {
   "cell_type": "code",
   "execution_count": 80,
   "metadata": {},
   "outputs": [],
   "source": [
    "dma_geo_path <- \"Interactive_DMA_Map/nielsengeo.json\"\n",
    "dma_geo_json <- fromJSON(file = dma_geo_path)"
   ]
  },
  {
   "cell_type": "code",
   "execution_count": 218,
   "metadata": {},
   "outputs": [],
   "source": [
    "point_in_polygon <- function(coor_list, lat, lon) {\n",
    "    # A polygon needs at least 3 points so check for that\n",
    "    len <- length(coor_list)\n",
    "    if(len < 3) { stop(\"A polygon must have at least 3 coordinates\") }\n",
    "    \n",
    "    # A boolean which determines if we think that the given point lies in the polygon\n",
    "    is_inside <- FALSE\n",
    "    \n",
    "    # We will be looking at two points at a time from the coor_list\n",
    "    for(idx1 in 1:len) {\n",
    "        # Take care of wrapping\n",
    "        idx2 <- if(idx1 == len) 1 else idx1 + 1\n",
    "        \n",
    "        # Extracting points for readability\n",
    "        p1_lat <- coor_list[[idx1]][[2]]\n",
    "        p1_lon <- coor_list[[idx1]][[1]]\n",
    "        p2_lat <- coor_list[[idx2]][[2]]\n",
    "        p2_lon <- coor_list[[idx2]][[1]]\n",
    "        slope <- (p1_lat - p2_lat) / (p1_lon - p2_lon)\n",
    "        \n",
    "        # Check for same point\n",
    "        if(is.nan(slope)) { next }\n",
    "        \n",
    "        #print(paste(p1_lat, p1_lon, p2_lat, p2_lon, slope, 1 / slope, sep = \"|\"))\n",
    "        # Check if crossing along a line of constant latitude is possible\n",
    "        is_between_lats <- (p1_lat > lat) != (p2_lat > lat)\n",
    "        is_right_cross <- lon < ( (1 / slope) * (lat - p1_lat) + p1_lon )\n",
    "        if(is_between_lats & is_right_cross) { is_inside <- !is_inside }\n",
    "    }\n",
    "    \n",
    "    is_inside\n",
    "}"
   ]
  },
  {
   "cell_type": "code",
   "execution_count": 231,
   "metadata": {},
   "outputs": [],
   "source": [
    "point_in_geo <- function(geo_json, lat, lon) {\n",
    "    # Default return value if we can't find anything\n",
    "    to_return <- NULL\n",
    "\n",
    "    # Filter out polygons from all of the features\n",
    "    for(feature in geo_json$features) {\n",
    "        # Extract type and coordinate list\n",
    "        type <- feature$geometry$type\n",
    "        coor <- feature$geometry$coordinates\n",
    "        \n",
    "        # Helper function to check single polygons\n",
    "        in_single_polygon <- function(coor, lat, lon) {\n",
    "            in_ring <- point_in_polygon(coor[[1]], lat, lon)\n",
    "            in_hole <- FALSE\n",
    "            if(length(coor) > 2) {\n",
    "                for(hole in coor[2:length(coor)]) { \n",
    "                    in_hole <- if(in_hole) TRUE else point_in_polygon(hole, lat, lon) \n",
    "                }\n",
    "            }\n",
    "            in_ring & !in_hole\n",
    "        }\n",
    "        \n",
    "        # Polygon check\n",
    "        if(type == \"Polygon\") {\n",
    "            if(in_single_polygon(coor, lat, lon)) { to_return <- feature }\n",
    "        }\n",
    "        if(type == \"MultiPolygon\") { \n",
    "            for(sub_coor in coor) {\n",
    "                if(in_single_polygon(sub_coor, lat, lon)) { to_return <- feature; break }\n",
    "            }\n",
    "        }\n",
    "                                   \n",
    "        # Final check\n",
    "        if(!is.null(to_return)) { break }\n",
    "    }\n",
    "    \n",
    "    to_return\n",
    "}"
   ]
  },
  {
   "cell_type": "code",
   "execution_count": 150,
   "metadata": {
    "collapsed": true
   },
   "outputs": [],
   "source": [
    "market_of_location <- function(geo_json, lat, lon) {\n",
    "    # Get polygon that contains point (lat, lon)\n",
    "    polygon <- point_in_geo(geo_json, lat, lon)\n",
    "    if(is.null(polygon)) { stop(\"Could not find polygon for given location\") }\n",
    "    \n",
    "    # Extract marketplace information from the returned object\n",
    "    polygon$properties$dma1\n",
    "}"
   ]
  },
  {
   "cell_type": "code",
   "execution_count": 142,
   "metadata": {
    "collapsed": true
   },
   "outputs": [],
   "source": [
    "sinclair_station_all_path <- \"sinclair_station_all.csv\"\n",
    "sinclair_station_all_df <- read.csv(sinclair_station_all_path)"
   ]
  },
  {
   "cell_type": "code",
   "execution_count": 143,
   "metadata": {},
   "outputs": [
    {
     "data": {
      "text/html": [
       "<table>\n",
       "<thead><tr><th scope=col>Market</th><th scope=col>Station</th><th scope=col>Channel.RF.</th><th scope=col>Year</th><th scope=col>Power.kW</th><th scope=col>Location</th><th scope=col>Latitude</th><th scope=col>Longitude</th><th scope=col>Year.Start</th><th scope=col>Year.End</th></tr></thead>\n",
       "<tbody>\n",
       "\t<tr><td>Birmingham - Tuscaloosa - Anniston, AL</td><td>WTTO                                  </td><td>21 (28)                               </td><td>1995                                  </td><td> 765                                  </td><td>33.484583; -86.807083                 </td><td>33.48458                              </td><td>-86.80708                             </td><td>1995                                  </td><td>NA                                    </td></tr>\n",
       "\t<tr><td>Birmingham - Tuscaloosa - Anniston, AL</td><td>WABM                                  </td><td>68 (36)                               </td><td>2001                                  </td><td> 885                                  </td><td>33.484583; -86.807056                 </td><td>33.48458                              </td><td>-86.80706                             </td><td>2001                                  </td><td>NA                                    </td></tr>\n",
       "\t<tr><td>Birmingham - Tuscaloosa - Anniston, AL</td><td>WDBB                                  </td><td>17 (18)                               </td><td>1995                                  </td><td>  NA                                  </td><td>                                      </td><td>      NA                              </td><td>       NA                             </td><td>1995                                  </td><td>NA                                    </td></tr>\n",
       "\t<tr><td>Birmingham - Tuscaloosa - Anniston, AL</td><td>WBMA-LD                               </td><td>58 (40)                               </td><td>2014                                  </td><td> 885                                  </td><td>33.484583; -86.807056                 </td><td>33.48458                              </td><td>-86.80706                             </td><td>2014                                  </td><td>NA                                    </td></tr>\n",
       "\t<tr><td><span style=white-space:pre-wrap>Mobile, AL &amp; Pensacola, FL            </span></td><td>WEAR-TV                                                                           </td><td>3 (17)                                                                            </td><td>1997                                                                              </td><td>1000                                                                              </td><td>30.612611; -87.644889                                                             </td><td>30.61261                                                                          </td><td>-87.64489                                                                         </td><td>1997                                                                              </td><td>NA                                                                                </td></tr>\n",
       "\t<tr><td><span style=white-space:pre-wrap>Mobile, AL &amp; Pensacola, FL            </span></td><td>WPMI-TV                                                                           </td><td>15 (15)                                                                           </td><td>2012                                                                              </td><td>1000                                                                              </td><td>30.61139; -87.607333                                                              </td><td>30.61139                                                                          </td><td>-87.60733                                                                         </td><td>2012                                                                              </td><td>NA                                                                                </td></tr>\n",
       "</tbody>\n",
       "</table>\n"
      ],
      "text/latex": [
       "\\begin{tabular}{r|llllllllll}\n",
       " Market & Station & Channel.RF. & Year & Power.kW & Location & Latitude & Longitude & Year.Start & Year.End\\\\\n",
       "\\hline\n",
       "\t Birmingham - Tuscaloosa - Anniston, AL & WTTO                                   & 21 (28)                                & 1995                                   &  765                                   & 33.484583; -86.807083                  & 33.48458                               & -86.80708                              & 1995                                   & NA                                    \\\\\n",
       "\t Birmingham - Tuscaloosa - Anniston, AL & WABM                                   & 68 (36)                                & 2001                                   &  885                                   & 33.484583; -86.807056                  & 33.48458                               & -86.80706                              & 2001                                   & NA                                    \\\\\n",
       "\t Birmingham - Tuscaloosa - Anniston, AL & WDBB                                   & 17 (18)                                & 1995                                   &   NA                                   &                                        &       NA                               &        NA                              & 1995                                   & NA                                    \\\\\n",
       "\t Birmingham - Tuscaloosa - Anniston, AL & WBMA-LD                                & 58 (40)                                & 2014                                   &  885                                   & 33.484583; -86.807056                  & 33.48458                               & -86.80706                              & 2014                                   & NA                                    \\\\\n",
       "\t Mobile, AL \\& Pensacola, FL             & WEAR-TV                                  & 3 (17)                                   & 1997                                     & 1000                                     & 30.612611; -87.644889                    & 30.61261                                 & -87.64489                                & 1997                                     & NA                                      \\\\\n",
       "\t Mobile, AL \\& Pensacola, FL             & WPMI-TV                                  & 15 (15)                                  & 2012                                     & 1000                                     & 30.61139; -87.607333                     & 30.61139                                 & -87.60733                                & 2012                                     & NA                                      \\\\\n",
       "\\end{tabular}\n"
      ],
      "text/markdown": [
       "\n",
       "Market | Station | Channel.RF. | Year | Power.kW | Location | Latitude | Longitude | Year.Start | Year.End | \n",
       "|---|---|---|---|---|---|\n",
       "| Birmingham - Tuscaloosa - Anniston, AL | WTTO                                   | 21 (28)                                | 1995                                   |  765                                   | 33.484583; -86.807083                  | 33.48458                               | -86.80708                              | 1995                                   | NA                                     | \n",
       "| Birmingham - Tuscaloosa - Anniston, AL | WABM                                   | 68 (36)                                | 2001                                   |  885                                   | 33.484583; -86.807056                  | 33.48458                               | -86.80706                              | 2001                                   | NA                                     | \n",
       "| Birmingham - Tuscaloosa - Anniston, AL | WDBB                                   | 17 (18)                                | 1995                                   |   NA                                   |                                        |       NA                               |        NA                              | 1995                                   | NA                                     | \n",
       "| Birmingham - Tuscaloosa - Anniston, AL | WBMA-LD                                | 58 (40)                                | 2014                                   |  885                                   | 33.484583; -86.807056                  | 33.48458                               | -86.80706                              | 2014                                   | NA                                     | \n",
       "| Mobile, AL & Pensacola, FL             | WEAR-TV                                | 3 (17)                                 | 1997                                   | 1000                                   | 30.612611; -87.644889                  | 30.61261                               | -87.64489                              | 1997                                   | NA                                     | \n",
       "| Mobile, AL & Pensacola, FL             | WPMI-TV                                | 15 (15)                                | 2012                                   | 1000                                   | 30.61139; -87.607333                   | 30.61139                               | -87.60733                              | 2012                                   | NA                                     | \n",
       "\n",
       "\n"
      ],
      "text/plain": [
       "  Market                                 Station Channel.RF. Year Power.kW\n",
       "1 Birmingham - Tuscaloosa - Anniston, AL WTTO    21 (28)     1995  765    \n",
       "2 Birmingham - Tuscaloosa - Anniston, AL WABM    68 (36)     2001  885    \n",
       "3 Birmingham - Tuscaloosa - Anniston, AL WDBB    17 (18)     1995   NA    \n",
       "4 Birmingham - Tuscaloosa - Anniston, AL WBMA-LD 58 (40)     2014  885    \n",
       "5 Mobile, AL & Pensacola, FL             WEAR-TV 3 (17)      1997 1000    \n",
       "6 Mobile, AL & Pensacola, FL             WPMI-TV 15 (15)     2012 1000    \n",
       "  Location              Latitude Longitude Year.Start Year.End\n",
       "1 33.484583; -86.807083 33.48458 -86.80708 1995       NA      \n",
       "2 33.484583; -86.807056 33.48458 -86.80706 2001       NA      \n",
       "3                             NA        NA 1995       NA      \n",
       "4 33.484583; -86.807056 33.48458 -86.80706 2014       NA      \n",
       "5 30.612611; -87.644889 30.61261 -87.64489 1997       NA      \n",
       "6 30.61139; -87.607333  30.61139 -87.60733 2012       NA      "
      ]
     },
     "metadata": {},
     "output_type": "display_data"
    }
   ],
   "source": [
    "head(sinclair_station_all_df)"
   ]
  },
  {
   "cell_type": "code",
   "execution_count": 246,
   "metadata": {
    "scrolled": true
   },
   "outputs": [
    {
     "name": "stdout",
     "output_type": "stream",
     "text": [
      "[1] \"St. Petersburg - Tampa | Tampa-St. Petersburg (Sarasota), FL\"\n",
      "[1] \"Tallahassee, FL - Thomasville, GA | Tallahassee, FL-Thomasville, GA\"\n",
      "[1] \"Lansing, Michigan | Lansing, MI\"\n",
      "[1] \"Idaho Falls - Pocatello | Idaho Falls-Pocatello, ID\"\n",
      "[1] \"Greenville, Tennessee (Tri-Cities, TN-VA) | Tri-Cities, TN-VA\"\n"
     ]
    }
   ],
   "source": [
    "test_df <- na.omit(sinclair_station_all_df)\n",
    "test_samples <- sample(1:nrow(test_df), 5)\n",
    "\n",
    "for(test_sample in test_samples) {\n",
    "    # Get the point of reference market from data\n",
    "    real_market <- test_df[test_sample, \"Market\"]\n",
    "    \n",
    "    # Get the derived market from location\n",
    "    test_lat <- test_df[test_sample, \"Latitude\"]\n",
    "    test_lon <- test_df[test_sample, \"Longitude\"]\n",
    "    test_market <- market_of_location(dma_geo_json, test_lat, test_lon)\n",
    "    \n",
    "    print(paste(real_market, \"|\", test_market))\n",
    "}"
   ]
  },
  {
   "cell_type": "code",
   "execution_count": 323,
   "metadata": {
    "collapsed": true
   },
   "outputs": [],
   "source": [
    "market_of_locations <- Vectorize(market_of_location, vectorize.args = c(\"lat\", \"lon\"))"
   ]
  },
  {
   "cell_type": "code",
   "execution_count": 326,
   "metadata": {},
   "outputs": [
    {
     "data": {
      "text/html": [
       "<ol class=list-inline>\n",
       "\t<li>'Tampa-St. Petersburg (Sarasota), FL'</li>\n",
       "\t<li>'Tallahassee, FL-Thomasville, GA'</li>\n",
       "\t<li>'Lansing, MI'</li>\n",
       "\t<li>'Idaho Falls-Pocatello, ID'</li>\n",
       "\t<li>'Tri-Cities, TN-VA'</li>\n",
       "</ol>\n"
      ],
      "text/latex": [
       "\\begin{enumerate*}\n",
       "\\item 'Tampa-St. Petersburg (Sarasota), FL'\n",
       "\\item 'Tallahassee, FL-Thomasville, GA'\n",
       "\\item 'Lansing, MI'\n",
       "\\item 'Idaho Falls-Pocatello, ID'\n",
       "\\item 'Tri-Cities, TN-VA'\n",
       "\\end{enumerate*}\n"
      ],
      "text/markdown": [
       "1. 'Tampa-St. Petersburg (Sarasota), FL'\n",
       "2. 'Tallahassee, FL-Thomasville, GA'\n",
       "3. 'Lansing, MI'\n",
       "4. 'Idaho Falls-Pocatello, ID'\n",
       "5. 'Tri-Cities, TN-VA'\n",
       "\n",
       "\n"
      ],
      "text/plain": [
       "[1] \"Tampa-St. Petersburg (Sarasota), FL\" \"Tallahassee, FL-Thomasville, GA\"    \n",
       "[3] \"Lansing, MI\"                         \"Idaho Falls-Pocatello, ID\"          \n",
       "[5] \"Tri-Cities, TN-VA\"                  "
      ]
     },
     "metadata": {},
     "output_type": "display_data"
    }
   ],
   "source": [
    "market_of_locations(dma_geo_json, \n",
    "                    test_df[test_samples, \"Latitude\"], \n",
    "                    test_df[test_samples, \"Longitude\"])"
   ]
  },
  {
   "cell_type": "code",
   "execution_count": 328,
   "metadata": {},
   "outputs": [],
   "source": [
    "sinclair_station_dma_df <- sinclair_station_all_df %>% \n",
    "    select(c(\"Market\", \"Station\", \"Latitude\", \"Longitude\", \"Year.Start\", \"Year.End\")) %>%\n",
    "    filter(!is.na(Latitude) & !is.na(Longitude)) %>%\n",
    "    mutate(DMA = market_of_locations(dma_geo_json, Latitude, Longitude))"
   ]
  },
  {
   "cell_type": "code",
   "execution_count": 329,
   "metadata": {},
   "outputs": [
    {
     "data": {
      "text/html": [
       "<table>\n",
       "<thead><tr><th scope=col>Market</th><th scope=col>Station</th><th scope=col>Latitude</th><th scope=col>Longitude</th><th scope=col>Year.Start</th><th scope=col>Year.End</th><th scope=col>DMA</th></tr></thead>\n",
       "<tbody>\n",
       "\t<tr><td>Birmingham - Tuscaloosa - Anniston, AL     </td><td>WTTO                                       </td><td>33.48458                                   </td><td>-86.80708                                  </td><td>1995                                       </td><td>NA                                         </td><td>Birmingham (Anniston and Tuscaloosa), AL   </td></tr>\n",
       "\t<tr><td>Birmingham - Tuscaloosa - Anniston, AL     </td><td>WABM                                       </td><td>33.48458                                   </td><td>-86.80706                                  </td><td>2001                                       </td><td>NA                                         </td><td>Birmingham (Anniston and Tuscaloosa), AL   </td></tr>\n",
       "\t<tr><td>Birmingham - Tuscaloosa - Anniston, AL     </td><td>WBMA-LD                                    </td><td>33.48458                                   </td><td>-86.80706                                  </td><td>2014                                       </td><td>NA                                         </td><td>Birmingham (Anniston and Tuscaloosa), AL   </td></tr>\n",
       "\t<tr><td><span style=white-space:pre-wrap>Mobile, AL &amp; Pensacola, FL            </span></td><td>WEAR-TV                                                                           </td><td>30.61261                                                                          </td><td>-87.64489                                                                         </td><td>1997                                                                              </td><td>NA                                                                                </td><td>Mobile, AL-Pensacola (Ft. Walton Beach), FL                                       </td></tr>\n",
       "\t<tr><td><span style=white-space:pre-wrap>Mobile, AL &amp; Pensacola, FL            </span></td><td>WPMI-TV                                                                           </td><td>30.61139                                                                          </td><td>-87.60733                                                                         </td><td>2012                                                                              </td><td>NA                                                                                </td><td>Mobile, AL-Pensacola (Ft. Walton Beach), FL                                       </td></tr>\n",
       "\t<tr><td><span style=white-space:pre-wrap>Mobile, AL &amp; Pensacola, FL            </span></td><td><span style=white-space:pre-wrap>WFGX   </span>                                   </td><td>30.61261                                                                          </td><td>-87.64489                                                                         </td><td>2001                                                                              </td><td>NA                                                                                </td><td>Mobile, AL-Pensacola (Ft. Walton Beach), FL                                       </td></tr>\n",
       "</tbody>\n",
       "</table>\n"
      ],
      "text/latex": [
       "\\begin{tabular}{r|lllllll}\n",
       " Market & Station & Latitude & Longitude & Year.Start & Year.End & DMA\\\\\n",
       "\\hline\n",
       "\t Birmingham - Tuscaloosa - Anniston, AL      & WTTO                                        & 33.48458                                    & -86.80708                                   & 1995                                        & NA                                          & Birmingham (Anniston and Tuscaloosa), AL   \\\\\n",
       "\t Birmingham - Tuscaloosa - Anniston, AL      & WABM                                        & 33.48458                                    & -86.80706                                   & 2001                                        & NA                                          & Birmingham (Anniston and Tuscaloosa), AL   \\\\\n",
       "\t Birmingham - Tuscaloosa - Anniston, AL      & WBMA-LD                                     & 33.48458                                    & -86.80706                                   & 2014                                        & NA                                          & Birmingham (Anniston and Tuscaloosa), AL   \\\\\n",
       "\t Mobile, AL \\& Pensacola, FL                & WEAR-TV                                     & 30.61261                                    & -87.64489                                   & 1997                                        & NA                                          & Mobile, AL-Pensacola (Ft. Walton Beach), FL\\\\\n",
       "\t Mobile, AL \\& Pensacola, FL                & WPMI-TV                                     & 30.61139                                    & -87.60733                                   & 2012                                        & NA                                          & Mobile, AL-Pensacola (Ft. Walton Beach), FL\\\\\n",
       "\t Mobile, AL \\& Pensacola, FL                & WFGX                                        & 30.61261                                    & -87.64489                                   & 2001                                        & NA                                          & Mobile, AL-Pensacola (Ft. Walton Beach), FL\\\\\n",
       "\\end{tabular}\n"
      ],
      "text/markdown": [
       "\n",
       "Market | Station | Latitude | Longitude | Year.Start | Year.End | DMA | \n",
       "|---|---|---|---|---|---|\n",
       "| Birmingham - Tuscaloosa - Anniston, AL      | WTTO                                        | 33.48458                                    | -86.80708                                   | 1995                                        | NA                                          | Birmingham (Anniston and Tuscaloosa), AL    | \n",
       "| Birmingham - Tuscaloosa - Anniston, AL      | WABM                                        | 33.48458                                    | -86.80706                                   | 2001                                        | NA                                          | Birmingham (Anniston and Tuscaloosa), AL    | \n",
       "| Birmingham - Tuscaloosa - Anniston, AL      | WBMA-LD                                     | 33.48458                                    | -86.80706                                   | 2014                                        | NA                                          | Birmingham (Anniston and Tuscaloosa), AL    | \n",
       "| Mobile, AL & Pensacola, FL                  | WEAR-TV                                     | 30.61261                                    | -87.64489                                   | 1997                                        | NA                                          | Mobile, AL-Pensacola (Ft. Walton Beach), FL | \n",
       "| Mobile, AL & Pensacola, FL                  | WPMI-TV                                     | 30.61139                                    | -87.60733                                   | 2012                                        | NA                                          | Mobile, AL-Pensacola (Ft. Walton Beach), FL | \n",
       "| Mobile, AL & Pensacola, FL                  | WFGX                                        | 30.61261                                    | -87.64489                                   | 2001                                        | NA                                          | Mobile, AL-Pensacola (Ft. Walton Beach), FL | \n",
       "\n",
       "\n"
      ],
      "text/plain": [
       "  Market                                 Station Latitude Longitude Year.Start\n",
       "1 Birmingham - Tuscaloosa - Anniston, AL WTTO    33.48458 -86.80708 1995      \n",
       "2 Birmingham - Tuscaloosa - Anniston, AL WABM    33.48458 -86.80706 2001      \n",
       "3 Birmingham - Tuscaloosa - Anniston, AL WBMA-LD 33.48458 -86.80706 2014      \n",
       "4 Mobile, AL & Pensacola, FL             WEAR-TV 30.61261 -87.64489 1997      \n",
       "5 Mobile, AL & Pensacola, FL             WPMI-TV 30.61139 -87.60733 2012      \n",
       "6 Mobile, AL & Pensacola, FL             WFGX    30.61261 -87.64489 2001      \n",
       "  Year.End DMA                                        \n",
       "1 NA       Birmingham (Anniston and Tuscaloosa), AL   \n",
       "2 NA       Birmingham (Anniston and Tuscaloosa), AL   \n",
       "3 NA       Birmingham (Anniston and Tuscaloosa), AL   \n",
       "4 NA       Mobile, AL-Pensacola (Ft. Walton Beach), FL\n",
       "5 NA       Mobile, AL-Pensacola (Ft. Walton Beach), FL\n",
       "6 NA       Mobile, AL-Pensacola (Ft. Walton Beach), FL"
      ]
     },
     "metadata": {},
     "output_type": "display_data"
    }
   ],
   "source": [
    "head(sinclair_station_dma_df)"
   ]
  },
  {
   "cell_type": "code",
   "execution_count": 332,
   "metadata": {
    "collapsed": true
   },
   "outputs": [],
   "source": [
    "sinclair_dma_df <- sinclair_station_dma_df %>% \n",
    "    group_by(DMA) %>%\n",
    "    summarize(Year.Start = min(Year.Start), Year.End = max(Year.End))"
   ]
  },
  {
   "cell_type": "code",
   "execution_count": 347,
   "metadata": {
    "scrolled": true
   },
   "outputs": [
    {
     "data": {
      "text/html": [
       "<table>\n",
       "<thead><tr><th scope=col>DMA</th><th scope=col>Year.Start</th><th scope=col>Year.End</th></tr></thead>\n",
       "<tbody>\n",
       "\t<tr><td>Abilene-Sweetwater, TX     </td><td>2017                       </td><td>NA                         </td></tr>\n",
       "\t<tr><td>Albany-Schenectady-Troy, NY</td><td>2012                       </td><td>NA                         </td></tr>\n",
       "\t<tr><td>Albany, GA                 </td><td>2013                       </td><td>NA                         </td></tr>\n",
       "\t<tr><td>Amarillo, TX               </td><td>2013                       </td><td>NA                         </td></tr>\n",
       "\t<tr><td>Austin, TX                 </td><td>2012                       </td><td>NA                         </td></tr>\n",
       "\t<tr><td>Bakersfield, CA            </td><td>2013                       </td><td>NA                         </td></tr>\n",
       "</tbody>\n",
       "</table>\n"
      ],
      "text/latex": [
       "\\begin{tabular}{r|lll}\n",
       " DMA & Year.Start & Year.End\\\\\n",
       "\\hline\n",
       "\t Abilene-Sweetwater, TX      & 2017                        & NA                         \\\\\n",
       "\t Albany-Schenectady-Troy, NY & 2012                        & NA                         \\\\\n",
       "\t Albany, GA                  & 2013                        & NA                         \\\\\n",
       "\t Amarillo, TX                & 2013                        & NA                         \\\\\n",
       "\t Austin, TX                  & 2012                        & NA                         \\\\\n",
       "\t Bakersfield, CA             & 2013                        & NA                         \\\\\n",
       "\\end{tabular}\n"
      ],
      "text/markdown": [
       "\n",
       "DMA | Year.Start | Year.End | \n",
       "|---|---|---|---|---|---|\n",
       "| Abilene-Sweetwater, TX      | 2017                        | NA                          | \n",
       "| Albany-Schenectady-Troy, NY | 2012                        | NA                          | \n",
       "| Albany, GA                  | 2013                        | NA                          | \n",
       "| Amarillo, TX                | 2013                        | NA                          | \n",
       "| Austin, TX                  | 2012                        | NA                          | \n",
       "| Bakersfield, CA             | 2013                        | NA                          | \n",
       "\n",
       "\n"
      ],
      "text/plain": [
       "  DMA                         Year.Start Year.End\n",
       "1 Abilene-Sweetwater, TX      2017       NA      \n",
       "2 Albany-Schenectady-Troy, NY 2012       NA      \n",
       "3 Albany, GA                  2013       NA      \n",
       "4 Amarillo, TX                2013       NA      \n",
       "5 Austin, TX                  2012       NA      \n",
       "6 Bakersfield, CA             2013       NA      "
      ]
     },
     "metadata": {},
     "output_type": "display_data"
    }
   ],
   "source": [
    "head(sinclair_dma_df)"
   ]
  },
  {
   "cell_type": "code",
   "execution_count": 312,
   "metadata": {},
   "outputs": [
    {
     "name": "stderr",
     "output_type": "stream",
     "text": [
      "Regions defined for each Polygons\n"
     ]
    }
   ],
   "source": [
    "# Get the shapefile\n",
    "dma_geo_path <- \"Interactive_DMA_Map/nielsengeo.json\"\n",
    "dma_geo_sh <- geojson_read(dma_geo_path, what = \"sp\")\n",
    "\n",
    "# Convert the shapefile into a csv\n",
    "dma_geo_sh@data$id <- rownames(dma_geo_sh@data)\n",
    "dma_geo_df <- merge(tidy(dma_geo_sh), dma_geo_sh@data, by = \"id\")"
   ]
  },
  {
   "cell_type": "code",
   "execution_count": 345,
   "metadata": {
    "scrolled": true
   },
   "outputs": [
    {
     "data": {
      "text/html": [
       "<table>\n",
       "<thead><tr><th scope=col>id</th><th scope=col>long</th><th scope=col>lat</th><th scope=col>order</th><th scope=col>hole</th><th scope=col>piece</th><th scope=col>group</th><th scope=col>name</th><th scope=col>latitude</th><th scope=col>tvperc</th><th scope=col>dma</th><th scope=col>dma1</th><th scope=col>cableperc</th><th scope=col>adsperc</th><th scope=col>longitude</th></tr></thead>\n",
       "<tbody>\n",
       "\t<tr><td>500                </td><td>-70.97725          </td><td>43.35754           </td><td>1                  </td><td>FALSE              </td><td>1                  </td><td>500.1              </td><td>dma:               </td><td>44.36667           </td><td>91.3               </td><td>500                </td><td>Portland-Auburn, ME</td><td>67.9               </td><td>23.7               </td><td>-70.18301          </td></tr>\n",
       "\t<tr><td>500                </td><td>-70.95991          </td><td>43.54138           </td><td>2                  </td><td>FALSE              </td><td>1                  </td><td>500.1              </td><td>dma:               </td><td>44.36667           </td><td>91.3               </td><td>500                </td><td>Portland-Auburn, ME</td><td>67.9               </td><td>23.7               </td><td>-70.18301          </td></tr>\n",
       "\t<tr><td>500                </td><td>-71.11016          </td><td>43.50660           </td><td>3                  </td><td>FALSE              </td><td>1                  </td><td>500.1              </td><td>dma:               </td><td>44.36667           </td><td>91.3               </td><td>500                </td><td>Portland-Auburn, ME</td><td>67.9               </td><td>23.7               </td><td>-70.18301          </td></tr>\n",
       "\t<tr><td>500                </td><td>-71.12750          </td><td>43.57367           </td><td>4                  </td><td>FALSE              </td><td>1                  </td><td>500.1              </td><td>dma:               </td><td>44.36667           </td><td>91.3               </td><td>500                </td><td>Portland-Auburn, ME</td><td>67.9               </td><td>23.7               </td><td>-70.18301          </td></tr>\n",
       "\t<tr><td>500                </td><td>-71.26042          </td><td>43.57119           </td><td>5                  </td><td>FALSE              </td><td>1                  </td><td>500.1              </td><td>dma:               </td><td>44.36667           </td><td>91.3               </td><td>500                </td><td>Portland-Auburn, ME</td><td>67.9               </td><td>23.7               </td><td>-70.18301          </td></tr>\n",
       "\t<tr><td>500                </td><td>-71.53203          </td><td>43.76496           </td><td>6                  </td><td>FALSE              </td><td>1                  </td><td>500.1              </td><td>dma:               </td><td>44.36667           </td><td>91.3               </td><td>500                </td><td>Portland-Auburn, ME</td><td>67.9               </td><td>23.7               </td><td>-70.18301          </td></tr>\n",
       "</tbody>\n",
       "</table>\n"
      ],
      "text/latex": [
       "\\begin{tabular}{r|lllllllllllllll}\n",
       " id & long & lat & order & hole & piece & group & name & latitude & tvperc & dma & dma1 & cableperc & adsperc & longitude\\\\\n",
       "\\hline\n",
       "\t 500                 & -70.97725           & 43.35754            & 1                   & FALSE               & 1                   & 500.1               & dma:                & 44.36667            & 91.3                & 500                 & Portland-Auburn, ME & 67.9                & 23.7                & -70.18301          \\\\\n",
       "\t 500                 & -70.95991           & 43.54138            & 2                   & FALSE               & 1                   & 500.1               & dma:                & 44.36667            & 91.3                & 500                 & Portland-Auburn, ME & 67.9                & 23.7                & -70.18301          \\\\\n",
       "\t 500                 & -71.11016           & 43.50660            & 3                   & FALSE               & 1                   & 500.1               & dma:                & 44.36667            & 91.3                & 500                 & Portland-Auburn, ME & 67.9                & 23.7                & -70.18301          \\\\\n",
       "\t 500                 & -71.12750           & 43.57367            & 4                   & FALSE               & 1                   & 500.1               & dma:                & 44.36667            & 91.3                & 500                 & Portland-Auburn, ME & 67.9                & 23.7                & -70.18301          \\\\\n",
       "\t 500                 & -71.26042           & 43.57119            & 5                   & FALSE               & 1                   & 500.1               & dma:                & 44.36667            & 91.3                & 500                 & Portland-Auburn, ME & 67.9                & 23.7                & -70.18301          \\\\\n",
       "\t 500                 & -71.53203           & 43.76496            & 6                   & FALSE               & 1                   & 500.1               & dma:                & 44.36667            & 91.3                & 500                 & Portland-Auburn, ME & 67.9                & 23.7                & -70.18301          \\\\\n",
       "\\end{tabular}\n"
      ],
      "text/markdown": [
       "\n",
       "id | long | lat | order | hole | piece | group | name | latitude | tvperc | dma | dma1 | cableperc | adsperc | longitude | \n",
       "|---|---|---|---|---|---|\n",
       "| 500                 | -70.97725           | 43.35754            | 1                   | FALSE               | 1                   | 500.1               | dma:                | 44.36667            | 91.3                | 500                 | Portland-Auburn, ME | 67.9                | 23.7                | -70.18301           | \n",
       "| 500                 | -70.95991           | 43.54138            | 2                   | FALSE               | 1                   | 500.1               | dma:                | 44.36667            | 91.3                | 500                 | Portland-Auburn, ME | 67.9                | 23.7                | -70.18301           | \n",
       "| 500                 | -71.11016           | 43.50660            | 3                   | FALSE               | 1                   | 500.1               | dma:                | 44.36667            | 91.3                | 500                 | Portland-Auburn, ME | 67.9                | 23.7                | -70.18301           | \n",
       "| 500                 | -71.12750           | 43.57367            | 4                   | FALSE               | 1                   | 500.1               | dma:                | 44.36667            | 91.3                | 500                 | Portland-Auburn, ME | 67.9                | 23.7                | -70.18301           | \n",
       "| 500                 | -71.26042           | 43.57119            | 5                   | FALSE               | 1                   | 500.1               | dma:                | 44.36667            | 91.3                | 500                 | Portland-Auburn, ME | 67.9                | 23.7                | -70.18301           | \n",
       "| 500                 | -71.53203           | 43.76496            | 6                   | FALSE               | 1                   | 500.1               | dma:                | 44.36667            | 91.3                | 500                 | Portland-Auburn, ME | 67.9                | 23.7                | -70.18301           | \n",
       "\n",
       "\n"
      ],
      "text/plain": [
       "  id  long      lat      order hole  piece group name latitude tvperc dma\n",
       "1 500 -70.97725 43.35754 1     FALSE 1     500.1 dma: 44.36667 91.3   500\n",
       "2 500 -70.95991 43.54138 2     FALSE 1     500.1 dma: 44.36667 91.3   500\n",
       "3 500 -71.11016 43.50660 3     FALSE 1     500.1 dma: 44.36667 91.3   500\n",
       "4 500 -71.12750 43.57367 4     FALSE 1     500.1 dma: 44.36667 91.3   500\n",
       "5 500 -71.26042 43.57119 5     FALSE 1     500.1 dma: 44.36667 91.3   500\n",
       "6 500 -71.53203 43.76496 6     FALSE 1     500.1 dma: 44.36667 91.3   500\n",
       "  dma1                cableperc adsperc longitude\n",
       "1 Portland-Auburn, ME 67.9      23.7    -70.18301\n",
       "2 Portland-Auburn, ME 67.9      23.7    -70.18301\n",
       "3 Portland-Auburn, ME 67.9      23.7    -70.18301\n",
       "4 Portland-Auburn, ME 67.9      23.7    -70.18301\n",
       "5 Portland-Auburn, ME 67.9      23.7    -70.18301\n",
       "6 Portland-Auburn, ME 67.9      23.7    -70.18301"
      ]
     },
     "metadata": {},
     "output_type": "display_data"
    }
   ],
   "source": [
    "head(dma_geo_df)"
   ]
  },
  {
   "cell_type": "code",
   "execution_count": 396,
   "metadata": {},
   "outputs": [],
   "source": [
    "sinclair_final_df <- merge(sinclair_dma_df, dma_geo_df, by.x = \"DMA\", by.y = \"dma1\")\n",
    "sinclair_final_df <- sinclair_final_df %>%\n",
    "    select(DMA, id, long, lat, order, hole, piece, group, Year.Start, Year.End)\n",
    "sinclair_final_df <- sinclair_final_df[order(sinclair_final_df$id, sinclair_final_df$order),]"
   ]
  },
  {
   "cell_type": "code",
   "execution_count": 397,
   "metadata": {},
   "outputs": [
    {
     "data": {
      "text/html": [
       "<table>\n",
       "<thead><tr><th></th><th scope=col>DMA</th><th scope=col>id</th><th scope=col>long</th><th scope=col>lat</th><th scope=col>order</th><th scope=col>hole</th><th scope=col>piece</th><th scope=col>group</th><th scope=col>Year.Start</th><th scope=col>Year.End</th></tr></thead>\n",
       "<tbody>\n",
       "\t<tr><th scope=row>3227</th><td>Portland-Auburn, ME</td><td>500                </td><td>-70.97725          </td><td>43.35754           </td><td>1                  </td><td>FALSE              </td><td>1                  </td><td>500.1              </td><td>NA                 </td><td>NA                 </td></tr>\n",
       "\t<tr><th scope=row>3167</th><td>Portland-Auburn, ME</td><td>500                </td><td>-70.95991          </td><td>43.54138           </td><td>2                  </td><td>FALSE              </td><td>1                  </td><td>500.1              </td><td>NA                 </td><td>NA                 </td></tr>\n",
       "\t<tr><th scope=row>3316</th><td>Portland-Auburn, ME</td><td>500                </td><td>-71.11016          </td><td>43.50660           </td><td>3                  </td><td>FALSE              </td><td>1                  </td><td>500.1              </td><td>NA                 </td><td>NA                 </td></tr>\n",
       "\t<tr><th scope=row>3277</th><td>Portland-Auburn, ME</td><td>500                </td><td>-71.12750          </td><td>43.57367           </td><td>4                  </td><td>FALSE              </td><td>1                  </td><td>500.1              </td><td>NA                 </td><td>NA                 </td></tr>\n",
       "\t<tr><th scope=row>3278</th><td>Portland-Auburn, ME</td><td>500                </td><td>-71.26042          </td><td>43.57119           </td><td>5                  </td><td>FALSE              </td><td>1                  </td><td>500.1              </td><td>NA                 </td><td>NA                 </td></tr>\n",
       "\t<tr><th scope=row>3209</th><td>Portland-Auburn, ME</td><td>500                </td><td>-71.53203          </td><td>43.76496           </td><td>6                  </td><td>FALSE              </td><td>1                  </td><td>500.1              </td><td>NA                 </td><td>NA                 </td></tr>\n",
       "</tbody>\n",
       "</table>\n"
      ],
      "text/latex": [
       "\\begin{tabular}{r|llllllllll}\n",
       "  & DMA & id & long & lat & order & hole & piece & group & Year.Start & Year.End\\\\\n",
       "\\hline\n",
       "\t3227 & Portland-Auburn, ME & 500                 & -70.97725           & 43.35754            & 1                   & FALSE               & 1                   & 500.1               & NA                  & NA                 \\\\\n",
       "\t3167 & Portland-Auburn, ME & 500                 & -70.95991           & 43.54138            & 2                   & FALSE               & 1                   & 500.1               & NA                  & NA                 \\\\\n",
       "\t3316 & Portland-Auburn, ME & 500                 & -71.11016           & 43.50660            & 3                   & FALSE               & 1                   & 500.1               & NA                  & NA                 \\\\\n",
       "\t3277 & Portland-Auburn, ME & 500                 & -71.12750           & 43.57367            & 4                   & FALSE               & 1                   & 500.1               & NA                  & NA                 \\\\\n",
       "\t3278 & Portland-Auburn, ME & 500                 & -71.26042           & 43.57119            & 5                   & FALSE               & 1                   & 500.1               & NA                  & NA                 \\\\\n",
       "\t3209 & Portland-Auburn, ME & 500                 & -71.53203           & 43.76496            & 6                   & FALSE               & 1                   & 500.1               & NA                  & NA                 \\\\\n",
       "\\end{tabular}\n"
      ],
      "text/markdown": [
       "\n",
       "| <!--/--> | DMA | id | long | lat | order | hole | piece | group | Year.Start | Year.End | \n",
       "|---|---|---|---|---|---|\n",
       "| 3227 | Portland-Auburn, ME | 500                 | -70.97725           | 43.35754            | 1                   | FALSE               | 1                   | 500.1               | NA                  | NA                  | \n",
       "| 3167 | Portland-Auburn, ME | 500                 | -70.95991           | 43.54138            | 2                   | FALSE               | 1                   | 500.1               | NA                  | NA                  | \n",
       "| 3316 | Portland-Auburn, ME | 500                 | -71.11016           | 43.50660            | 3                   | FALSE               | 1                   | 500.1               | NA                  | NA                  | \n",
       "| 3277 | Portland-Auburn, ME | 500                 | -71.12750           | 43.57367            | 4                   | FALSE               | 1                   | 500.1               | NA                  | NA                  | \n",
       "| 3278 | Portland-Auburn, ME | 500                 | -71.26042           | 43.57119            | 5                   | FALSE               | 1                   | 500.1               | NA                  | NA                  | \n",
       "| 3209 | Portland-Auburn, ME | 500                 | -71.53203           | 43.76496            | 6                   | FALSE               | 1                   | 500.1               | NA                  | NA                  | \n",
       "\n",
       "\n"
      ],
      "text/plain": [
       "     DMA                 id  long      lat      order hole  piece group\n",
       "3227 Portland-Auburn, ME 500 -70.97725 43.35754 1     FALSE 1     500.1\n",
       "3167 Portland-Auburn, ME 500 -70.95991 43.54138 2     FALSE 1     500.1\n",
       "3316 Portland-Auburn, ME 500 -71.11016 43.50660 3     FALSE 1     500.1\n",
       "3277 Portland-Auburn, ME 500 -71.12750 43.57367 4     FALSE 1     500.1\n",
       "3278 Portland-Auburn, ME 500 -71.26042 43.57119 5     FALSE 1     500.1\n",
       "3209 Portland-Auburn, ME 500 -71.53203 43.76496 6     FALSE 1     500.1\n",
       "     Year.Start Year.End\n",
       "3227 NA         NA      \n",
       "3167 NA         NA      \n",
       "3316 NA         NA      \n",
       "3277 NA         NA      \n",
       "3278 NA         NA      \n",
       "3209 NA         NA      "
      ]
     },
     "metadata": {},
     "output_type": "display_data"
    }
   ],
   "source": [
    "head(sinclair_final_df) "
   ]
  },
  {
   "cell_type": "code",
   "execution_count": 415,
   "metadata": {
    "collapsed": true
   },
   "outputs": [],
   "source": [
    "library(repr)\n",
    "options(repr.plot.width=9, repr.plot.height=5)"
   ]
  },
  {
   "cell_type": "code",
   "execution_count": 416,
   "metadata": {
    "collapsed": true
   },
   "outputs": [],
   "source": [
    "plot_sinclair_dmas <- function(year) {\n",
    "    # Separate the spatial data into four datasets\n",
    "    plot_df <- sinclair_final_df %>%\n",
    "        mutate(Acquired = case_when(\n",
    "            (Year.Start < year) & (Year.End > year | is.na(Year.End)) ~ \"acquired\\nprevious years\",\n",
    "            Year.Start == year ~ \"acquired\\nthis year\",\n",
    "            Year.End == year ~ \"sold\\nthis year\",\n",
    "            TRUE ~ \"not held\")\n",
    "        )\n",
    "    \n",
    "    # We don't want to show the DMAs that were not held during the given year\n",
    "    held_mask <- plot_df$Acquired != \"not held\"\n",
    "    plot_df <- plot_df[held_mask, ]\n",
    "    factor_levels <- c(\"acquired\\nprevious years\", \"acquired\\nthis year\", \"sold\\nthis year\")\n",
    "    plot_df$Acquired <- factor(plot_df$Acquired, levels = factor_levels)\n",
    "    \n",
    "    # Pick some nice colors\n",
    "    nice_colors <- brewer.pal(3, \"Set2\")\n",
    "    \n",
    "    # Make the plot\n",
    "    ggplot() +\n",
    "        coord_map(\"albers\", lat0 = 37.5, lat1 = 29.5) + \n",
    "        geom_polygon(data = dma_geo_df,\n",
    "                     aes(x = long, y = lat, group = group),\n",
    "                     color = \"gray60\") +\n",
    "        geom_polygon(data = plot_df,\n",
    "                     aes(x = long, y = lat, group = group, fill = Acquired),\n",
    "                     color = \"gray60\") +\n",
    "        scale_fill_manual(values = nice_colors, drop = FALSE) +\n",
    "        theme(plot.title = element_text(hjust = 0.1, color=\"#666666\", face=\"bold\", size=20), \n",
    "            axis.text = element_blank(), \n",
    "            axis.line = element_blank(), \n",
    "            axis.ticks = element_blank(),\n",
    "            axis.title = element_blank(),\n",
    "            panel.border = element_blank(),\n",
    "            legend.position = c(0.93, 0.5),\n",
    "            legend.key.size = unit(1, \"cm\"),\n",
    "            legend.text = element_text(size=12),\n",
    "            legend.title = element_text(size=12),\n",
    "            panel.grid = element_blank(),\n",
    "            panel.background = element_blank()) +\n",
    "        #guides(size=guide_legend(title=\"Transmitter\\nPower (kW)\"), byrow = TRUE) +\n",
    "        ggtitle(paste(\"Sinclair DMAs in\", year))\n",
    "}"
   ]
  },
  {
   "cell_type": "code",
   "execution_count": 419,
   "metadata": {},
   "outputs": [
    {
     "data": {},
     "metadata": {},
     "output_type": "display_data"
    },
    {
     "data": {
      "image/png": "[encoded data removed]",
      "text/plain": [
       "plot without title"
      ]
     },
     "metadata": {},
     "output_type": "display_data"
    }
   ],
   "source": [
    "plot_sinclair_dmas(2013)"
   ]
  },
  {
   "cell_type": "code",
   "execution_count": 418,
   "metadata": {
    "collapsed": true
   },
   "outputs": [],
   "source": [
    "max_year <- max(sinclair_final_df$Year.Start, na.rm = TRUE)\n",
    "min_year <- min(sinclair_final_df$Year.Start, na.rm = TRUE)\n",
    "\n",
    "IMAGE_OUTPUT_PATH <- \"Images\"\n",
    "\n",
    "for(year in min_year:max_year) {\n",
    "    image <- plot_sinclair_dmas(year)\n",
    "    image.name <- paste(\"Sinclair_DMAs\", year, sep = \"_\")\n",
    "    image.name <- paste(image.name, \".png\", sep = \"\")\n",
    "    ggsave(filename = image.name, \n",
    "        plot = image,\n",
    "        path = IMAGE_OUTPUT_PATH,\n",
    "        width = unit(14, \"cm\"),\n",
    "        height = unit(10, \"cm\"))\n",
    "}"
   ]
  }
 ],
 "metadata": {
  "kernelspec": {
   "display_name": "R",
   "language": "R",
   "name": "ir"
  },
  "language_info": {
   "codemirror_mode": "r",
   "file_extension": ".r",
   "mimetype": "text/x-r-source",
   "name": "R",
   "pygments_lexer": "r",
   "version": "3.4.1"
  }
 },
 "nbformat": 4,
 "nbformat_minor": 2
}
