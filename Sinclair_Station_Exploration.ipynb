{
 "cells": [
  {
   "cell_type": "markdown",
   "metadata": {},
   "source": [
    "# Examining Sinclair Stations\n",
    "\n",
    "In this JUPYTER notebook, we'll be cleaning and analyzing a small dataset scraped from Wikipedia. This dataset contains information about stations owned by the Sinclair Broadcasting Group, how these stations are spread throughout the United States, and how this distribution has changed over time."
   ]
  },
  {
   "cell_type": "markdown",
   "metadata": {},
   "source": [
    "To analyze this data, we'll first load some libraries that we'll need throughout the notebook. These include libraries for basic join/merge commands as well as mapping and plotting libraries for producing our final visualizations."
   ]
  },
  {
   "cell_type": "code",
   "execution_count": 1,
   "metadata": {
    "collapsed": true
   },
   "outputs": [],
   "source": [
    "# Load up some libraries\n",
    "library(dplyr, warn.conflicts = FALSE)\n",
    "library(ggplot2)\n",
    "library(maps)\n",
    "library(mapdata)\n",
    "library(RColorBrewer)"
   ]
  },
  {
   "cell_type": "markdown",
   "metadata": {},
   "source": [
    "## The Scraped Data\n",
    "\n",
    "All of the custom data we will be working with for this notebook exists under `Scraper/sinclair_stations.csv` and `Scraper/sinclair_stations_previous.csv` files. I collected this data from the following URL:\n",
    "\n",
    "[Sinclair Group Stations](https://en.wikipedia.org/wiki/List_of_stations_owned_or_operated_by_Sinclair_Broadcast_Group)\n",
    "\n",
    "A quick disclaimer: I scraped *some* of the data (the columns labeled `Location` and `Power`) by following links present in the original URL, not from the actual page itself. To see the (admittedly incomplete) module/script used to extract the data, have a look-see at `Scraper/scrape_wiki.py` and `Scraper/wikitable.py`.\n",
    "\n",
    "For the first part of this notebook, we'll be exploring and cleaning the data present in the two csvs mentioned above. The `sinclair_stations.csv` file contains information on all stations *currently* owned or operated by Sinclair. This is in contrast to `sinclair_stations_previous.csv` which contains information on stations that were *previously* owned or operated by Sinclair but are now under different management."
   ]
  },
  {
   "cell_type": "markdown",
   "metadata": {},
   "source": [
    "### Cleaning up the Data\n",
    "\n",
    "Now that we have a little bit of information on what's to come, lets load up both of these csv files into **R**, clean them up a bit, and create some nice visualizations.\n",
    "\n",
    "First up, we have `sinclair_stations.csv`:"
   ]
  },
  {
   "cell_type": "code",
   "execution_count": 2,
   "metadata": {
    "collapsed": true
   },
   "outputs": [],
   "source": [
    "sinclair_station_path <- \"Scraper/sinclair_stations.csv\"\n",
    "sinclair_station_df <- read.csv(sinclair_station_path, stringsAsFactors = FALSE)\n",
    "sinclair_station_df <- sinclair_station_df[, c(1, 2, 3, 4, 9, 10, 11, 12)]"
   ]
  },
  {
   "cell_type": "code",
   "execution_count": 3,
   "metadata": {
    "scrolled": true
   },
   "outputs": [
    {
     "data": {
      "text/html": [
       "<table>\n",
       "<thead><tr><th scope=col>Market</th><th scope=col>Station</th><th scope=col>Channel.RF.</th><th scope=col>Year</th><th scope=col>Power</th><th scope=col>Location</th><th scope=col>Latitude</th><th scope=col>Longitude</th></tr></thead>\n",
       "<tbody>\n",
       "\t<tr><td>Birmingham - Tuscaloosa - Anniston, AL</td><td>WTTO                                  </td><td>21 (28)                               </td><td>1995                                  </td><td>765 kW                                </td><td>33.484583; -86.807083                 </td><td>33.48458                              </td><td>-86.80708                             </td></tr>\n",
       "\t<tr><td>Birmingham - Tuscaloosa - Anniston, AL</td><td>WABM                                  </td><td>68 (36)                               </td><td>2001                                  </td><td>885 kW                                </td><td>33.484583; -86.807056                 </td><td>33.48458                              </td><td>-86.80706                             </td></tr>\n",
       "\t<tr><td>Birmingham - Tuscaloosa - Anniston, AL</td><td>WDBB                                  </td><td>17 (18)                               </td><td>1995                                  </td><td>                                      </td><td>                                      </td><td>      NA                              </td><td>       NA                             </td></tr>\n",
       "\t<tr><td>Birmingham - Tuscaloosa - Anniston, AL</td><td>WBMA-LD                               </td><td>58 (40)                               </td><td>2014                                  </td><td>                                      </td><td>See table below                       </td><td>      NA                              </td><td>       NA                             </td></tr>\n",
       "\t<tr><td><span style=white-space:pre-wrap>Mobile, AL &amp; Pensacola, FL            </span></td><td>WEAR-TV                                                                           </td><td>3 (17)                                                                            </td><td>1997                                                                              </td><td>1,000 kW                                                                          </td><td>30.612611; -87.644889                                                             </td><td>30.61261                                                                          </td><td>-87.64489                                                                         </td></tr>\n",
       "\t<tr><td><span style=white-space:pre-wrap>Mobile, AL &amp; Pensacola, FL            </span></td><td>WPMI-TV                                                                           </td><td>15 (15)                                                                           </td><td>2012                                                                              </td><td>1000 kW                                                                           </td><td>30.61139; -87.607333                                                              </td><td>30.61139                                                                          </td><td>-87.60733                                                                         </td></tr>\n",
       "</tbody>\n",
       "</table>\n"
      ],
      "text/latex": [
       "\\begin{tabular}{r|llllllll}\n",
       " Market & Station & Channel.RF. & Year & Power & Location & Latitude & Longitude\\\\\n",
       "\\hline\n",
       "\t Birmingham - Tuscaloosa - Anniston, AL & WTTO                                   & 21 (28)                                & 1995                                   & 765 kW                                 & 33.484583; -86.807083                  & 33.48458                               & -86.80708                             \\\\\n",
       "\t Birmingham - Tuscaloosa - Anniston, AL & WABM                                   & 68 (36)                                & 2001                                   & 885 kW                                 & 33.484583; -86.807056                  & 33.48458                               & -86.80706                             \\\\\n",
       "\t Birmingham - Tuscaloosa - Anniston, AL & WDBB                                   & 17 (18)                                & 1995                                   &                                        &                                        &       NA                               &        NA                             \\\\\n",
       "\t Birmingham - Tuscaloosa - Anniston, AL & WBMA-LD                                & 58 (40)                                & 2014                                   &                                        & See table below                        &       NA                               &        NA                             \\\\\n",
       "\t Mobile, AL \\& Pensacola, FL             & WEAR-TV                                  & 3 (17)                                   & 1997                                     & 1,000 kW                                 & 30.612611; -87.644889                    & 30.61261                                 & -87.64489                               \\\\\n",
       "\t Mobile, AL \\& Pensacola, FL             & WPMI-TV                                  & 15 (15)                                  & 2012                                     & 1000 kW                                  & 30.61139; -87.607333                     & 30.61139                                 & -87.60733                               \\\\\n",
       "\\end{tabular}\n"
      ],
      "text/markdown": [
       "\n",
       "Market | Station | Channel.RF. | Year | Power | Location | Latitude | Longitude | \n",
       "|---|---|---|---|---|---|\n",
       "| Birmingham - Tuscaloosa - Anniston, AL | WTTO                                   | 21 (28)                                | 1995                                   | 765 kW                                 | 33.484583; -86.807083                  | 33.48458                               | -86.80708                              | \n",
       "| Birmingham - Tuscaloosa - Anniston, AL | WABM                                   | 68 (36)                                | 2001                                   | 885 kW                                 | 33.484583; -86.807056                  | 33.48458                               | -86.80706                              | \n",
       "| Birmingham - Tuscaloosa - Anniston, AL | WDBB                                   | 17 (18)                                | 1995                                   |                                        |                                        |       NA                               |        NA                              | \n",
       "| Birmingham - Tuscaloosa - Anniston, AL | WBMA-LD                                | 58 (40)                                | 2014                                   |                                        | See table below                        |       NA                               |        NA                              | \n",
       "| Mobile, AL & Pensacola, FL             | WEAR-TV                                | 3 (17)                                 | 1997                                   | 1,000 kW                               | 30.612611; -87.644889                  | 30.61261                               | -87.64489                              | \n",
       "| Mobile, AL & Pensacola, FL             | WPMI-TV                                | 15 (15)                                | 2012                                   | 1000 kW                                | 30.61139; -87.607333                   | 30.61139                               | -87.60733                              | \n",
       "\n",
       "\n"
      ],
      "text/plain": [
       "  Market                                 Station Channel.RF. Year Power   \n",
       "1 Birmingham - Tuscaloosa - Anniston, AL WTTO    21 (28)     1995 765 kW  \n",
       "2 Birmingham - Tuscaloosa - Anniston, AL WABM    68 (36)     2001 885 kW  \n",
       "3 Birmingham - Tuscaloosa - Anniston, AL WDBB    17 (18)     1995         \n",
       "4 Birmingham - Tuscaloosa - Anniston, AL WBMA-LD 58 (40)     2014         \n",
       "5 Mobile, AL & Pensacola, FL             WEAR-TV 3 (17)      1997 1,000 kW\n",
       "6 Mobile, AL & Pensacola, FL             WPMI-TV 15 (15)     2012 1000 kW \n",
       "  Location              Latitude Longitude\n",
       "1 33.484583; -86.807083 33.48458 -86.80708\n",
       "2 33.484583; -86.807056 33.48458 -86.80706\n",
       "3                             NA        NA\n",
       "4 See table below             NA        NA\n",
       "5 30.612611; -87.644889 30.61261 -87.64489\n",
       "6 30.61139; -87.607333  30.61139 -87.60733"
      ]
     },
     "metadata": {},
     "output_type": "display_data"
    }
   ],
   "source": [
    "head(sinclair_station_df)"
   ]
  },
  {
   "cell_type": "markdown",
   "metadata": {},
   "source": [
    "There are a couple of things to notice in the code and results above.\n",
    "\n",
    "First, I specifically skipped over columns 5-8 when reading the csv. These columns contain information on the DT affiliations (FOX, CBS, NBC, etc.) of each station that I thought might be useful in future research but that are not going to be useful to us today.\n",
    "\n",
    "Second, some rows are missing information under the `Location` and `Power` columns. Missing information occured because of two reasons: the information was actually missing (station WDBB), or the information was moved to a non-standard location on the wikipedia page (this is the case for station WBMA-LD). Instead of shaming me on creating a bad web-scraper, lets just manually fill in the stations that I originally missed."
   ]
  },
  {
   "cell_type": "code",
   "execution_count": 4,
   "metadata": {
    "collapsed": true
   },
   "outputs": [],
   "source": [
    "# Columns to fill and column to select by\n",
    "fill_cols <- c(\"Power\", \"Location\", \"Latitude\", \"Longitude\")\n",
    "select_col <- sinclair_station_df$Station\n",
    "\n",
    "# Manual labor :(\n",
    "sinclair_station_df[select_col == \"WBMA-LD\", fill_cols] <- c(\"885 kW\", \"33.484583; -86.807056\", 33.484583, -86.807056)\n",
    "sinclair_station_df[select_col == \"WWHB-CA\", fill_cols] <- c(\"\", \"27.025222; -80.178528\", 27.025222, -80.178528)\n",
    "sinclair_station_df[select_col == \"KECI-TV\", fill_cols] <- c(\"30 kW\", \"47.017250; -114.014056\", 47.017250, -114.014056)\n",
    "sinclair_station_df[select_col == \"KCFW-TV\", fill_cols] <- c(\"2.5 kW\", \"48.01333; -114.36639\", 48.01333, -114.36639)\n",
    "sinclair_station_df[select_col == \"KTVM-TV\", fill_cols] <- c(\"11.2 kW\", \"46.00750; -112.44250\", 46.00750, -112.44250)\n",
    "sinclair_station_df[select_col == \"KDBZ-CD\", fill_cols] <- c(\"15 kW\", \"45.67333; -110.86722\", 45.67333, -110.86722)\n",
    "\n",
    "# Make sure that Latitude and Longitude are still numeric columns\n",
    "sinclair_station_df[c(\"Latitude\", \"Longitude\")] <- sapply(\n",
    "    sinclair_station_df[c(\"Latitude\", \"Longitude\")], as.numeric)"
   ]
  },
  {
   "cell_type": "code",
   "execution_count": 5,
   "metadata": {},
   "outputs": [
    {
     "data": {
      "text/html": [
       "<table>\n",
       "<thead><tr><th scope=col>Market</th><th scope=col>Station</th><th scope=col>Channel.RF.</th><th scope=col>Year</th><th scope=col>Power</th><th scope=col>Location</th><th scope=col>Latitude</th><th scope=col>Longitude</th></tr></thead>\n",
       "<tbody>\n",
       "\t<tr><td>Birmingham - Tuscaloosa - Anniston, AL</td><td>WTTO                                  </td><td>21 (28)                               </td><td>1995                                  </td><td>765 kW                                </td><td>33.484583; -86.807083                 </td><td>33.48458                              </td><td>-86.80708                             </td></tr>\n",
       "\t<tr><td>Birmingham - Tuscaloosa - Anniston, AL</td><td>WABM                                  </td><td>68 (36)                               </td><td>2001                                  </td><td>885 kW                                </td><td>33.484583; -86.807056                 </td><td>33.48458                              </td><td>-86.80706                             </td></tr>\n",
       "\t<tr><td>Birmingham - Tuscaloosa - Anniston, AL</td><td>WDBB                                  </td><td>17 (18)                               </td><td>1995                                  </td><td>                                      </td><td>                                      </td><td>      NA                              </td><td>       NA                             </td></tr>\n",
       "\t<tr><td>Birmingham - Tuscaloosa - Anniston, AL</td><td>WBMA-LD                               </td><td>58 (40)                               </td><td>2014                                  </td><td>885 kW                                </td><td>33.484583; -86.807056                 </td><td>33.48458                              </td><td>-86.80706                             </td></tr>\n",
       "\t<tr><td><span style=white-space:pre-wrap>Mobile, AL &amp; Pensacola, FL            </span></td><td>WEAR-TV                                                                           </td><td>3 (17)                                                                            </td><td>1997                                                                              </td><td>1,000 kW                                                                          </td><td>30.612611; -87.644889                                                             </td><td>30.61261                                                                          </td><td>-87.64489                                                                         </td></tr>\n",
       "\t<tr><td><span style=white-space:pre-wrap>Mobile, AL &amp; Pensacola, FL            </span></td><td>WPMI-TV                                                                           </td><td>15 (15)                                                                           </td><td>2012                                                                              </td><td>1000 kW                                                                           </td><td>30.61139; -87.607333                                                              </td><td>30.61139                                                                          </td><td>-87.60733                                                                         </td></tr>\n",
       "</tbody>\n",
       "</table>\n"
      ],
      "text/latex": [
       "\\begin{tabular}{r|llllllll}\n",
       " Market & Station & Channel.RF. & Year & Power & Location & Latitude & Longitude\\\\\n",
       "\\hline\n",
       "\t Birmingham - Tuscaloosa - Anniston, AL & WTTO                                   & 21 (28)                                & 1995                                   & 765 kW                                 & 33.484583; -86.807083                  & 33.48458                               & -86.80708                             \\\\\n",
       "\t Birmingham - Tuscaloosa - Anniston, AL & WABM                                   & 68 (36)                                & 2001                                   & 885 kW                                 & 33.484583; -86.807056                  & 33.48458                               & -86.80706                             \\\\\n",
       "\t Birmingham - Tuscaloosa - Anniston, AL & WDBB                                   & 17 (18)                                & 1995                                   &                                        &                                        &       NA                               &        NA                             \\\\\n",
       "\t Birmingham - Tuscaloosa - Anniston, AL & WBMA-LD                                & 58 (40)                                & 2014                                   & 885 kW                                 & 33.484583; -86.807056                  & 33.48458                               & -86.80706                             \\\\\n",
       "\t Mobile, AL \\& Pensacola, FL             & WEAR-TV                                  & 3 (17)                                   & 1997                                     & 1,000 kW                                 & 30.612611; -87.644889                    & 30.61261                                 & -87.64489                               \\\\\n",
       "\t Mobile, AL \\& Pensacola, FL             & WPMI-TV                                  & 15 (15)                                  & 2012                                     & 1000 kW                                  & 30.61139; -87.607333                     & 30.61139                                 & -87.60733                               \\\\\n",
       "\\end{tabular}\n"
      ],
      "text/markdown": [
       "\n",
       "Market | Station | Channel.RF. | Year | Power | Location | Latitude | Longitude | \n",
       "|---|---|---|---|---|---|\n",
       "| Birmingham - Tuscaloosa - Anniston, AL | WTTO                                   | 21 (28)                                | 1995                                   | 765 kW                                 | 33.484583; -86.807083                  | 33.48458                               | -86.80708                              | \n",
       "| Birmingham - Tuscaloosa - Anniston, AL | WABM                                   | 68 (36)                                | 2001                                   | 885 kW                                 | 33.484583; -86.807056                  | 33.48458                               | -86.80706                              | \n",
       "| Birmingham - Tuscaloosa - Anniston, AL | WDBB                                   | 17 (18)                                | 1995                                   |                                        |                                        |       NA                               |        NA                              | \n",
       "| Birmingham - Tuscaloosa - Anniston, AL | WBMA-LD                                | 58 (40)                                | 2014                                   | 885 kW                                 | 33.484583; -86.807056                  | 33.48458                               | -86.80706                              | \n",
       "| Mobile, AL & Pensacola, FL             | WEAR-TV                                | 3 (17)                                 | 1997                                   | 1,000 kW                               | 30.612611; -87.644889                  | 30.61261                               | -87.64489                              | \n",
       "| Mobile, AL & Pensacola, FL             | WPMI-TV                                | 15 (15)                                | 2012                                   | 1000 kW                                | 30.61139; -87.607333                   | 30.61139                               | -87.60733                              | \n",
       "\n",
       "\n"
      ],
      "text/plain": [
       "  Market                                 Station Channel.RF. Year Power   \n",
       "1 Birmingham - Tuscaloosa - Anniston, AL WTTO    21 (28)     1995 765 kW  \n",
       "2 Birmingham - Tuscaloosa - Anniston, AL WABM    68 (36)     2001 885 kW  \n",
       "3 Birmingham - Tuscaloosa - Anniston, AL WDBB    17 (18)     1995         \n",
       "4 Birmingham - Tuscaloosa - Anniston, AL WBMA-LD 58 (40)     2014 885 kW  \n",
       "5 Mobile, AL & Pensacola, FL             WEAR-TV 3 (17)      1997 1,000 kW\n",
       "6 Mobile, AL & Pensacola, FL             WPMI-TV 15 (15)     2012 1000 kW \n",
       "  Location              Latitude Longitude\n",
       "1 33.484583; -86.807083 33.48458 -86.80708\n",
       "2 33.484583; -86.807056 33.48458 -86.80706\n",
       "3                             NA        NA\n",
       "4 33.484583; -86.807056 33.48458 -86.80706\n",
       "5 30.612611; -87.644889 30.61261 -87.64489\n",
       "6 30.61139; -87.607333  30.61139 -87.60733"
      ]
     },
     "metadata": {},
     "output_type": "display_data"
    }
   ],
   "source": [
    "head(sinclair_station_df)"
   ]
  },
  {
   "cell_type": "markdown",
   "metadata": {},
   "source": [
    "This looks better but we still have some missing data. How much?"
   ]
  },
  {
   "cell_type": "code",
   "execution_count": 11,
   "metadata": {},
   "outputs": [
    {
     "name": "stdout",
     "output_type": "stream",
     "text": [
      "[1] \"Missing Power    22 / 190\"\n",
      "[1] \"Missing Location 25 / 190\"\n"
     ]
    }
   ],
   "source": [
    "total <- nrow(sinclair_station_df)\n",
    "missing_power <- sum(is.na(sinclair_station_df$Power) | sinclair_station_df$Power == \"\")\n",
    "missing_location <- sum(is.na(sinclair_station_df$Location) | sinclair_station_df$Location == \"\")\n",
    "\n",
    "print(paste(\"Missing Power   \", missing_power, \"/\", total))\n",
    "print(paste(\"Missing Location\", missing_location, \"/\", total))"
   ]
  },
  {
   "cell_type": "markdown",
   "metadata": {},
   "source": [
    "While it might seem alarming that we're missing more than 10% of our data, after looking into the missing values I found that most corresponded to satellite versions of stations that do *not* have missing values. For example, the station WDBB (which has missing values) is just a satellite version of the station WTTO (which does not have missing values). With this in mind, we safely ignore the missing values and continue the analysis.\n",
    "\n",
    "One last bit of cleanup work to do for our first csv file: we need to convert the `Power` column from character to numeric values. While its informative that we have units for each station/transmitter, it would be a lot more useful to just have this as a numeric column. We can put the units in the column name."
   ]
  },
  {
   "cell_type": "code",
   "execution_count": 12,
   "metadata": {
    "collapsed": true
   },
   "outputs": [],
   "source": [
    "sinclair_station_df$Power <- sub(\" kW\", \"\", sinclair_station_df$Power) # Remove units\n",
    "sinclair_station_df$Power <- sub(\",\", \"\", sinclair_station_df$Power)   # Remove commas\n",
    "sinclair_station_df$Power <- as.numeric(sinclair_station_df$Power)     # Convert to numeric values\n",
    "colnames(sinclair_station_df)[5] <- \"Power.kW\"                         # Change column name"
   ]
  },
  {
   "cell_type": "markdown",
   "metadata": {},
   "source": [
    "Don't worry, I made sure all of the rows were given in \"kW\" so I didn't have to check for other units like \"MW\" or \"W\"."
   ]
  },
  {
   "cell_type": "code",
   "execution_count": 13,
   "metadata": {},
   "outputs": [
    {
     "data": {
      "text/html": [
       "<table>\n",
       "<thead><tr><th scope=col>Market</th><th scope=col>Station</th><th scope=col>Channel.RF.</th><th scope=col>Year</th><th scope=col>Power.kW</th><th scope=col>Location</th><th scope=col>Latitude</th><th scope=col>Longitude</th></tr></thead>\n",
       "<tbody>\n",
       "\t<tr><td>Birmingham - Tuscaloosa - Anniston, AL</td><td>WTTO                                  </td><td>21 (28)                               </td><td>1995                                  </td><td> 765                                  </td><td>33.484583; -86.807083                 </td><td>33.48458                              </td><td>-86.80708                             </td></tr>\n",
       "\t<tr><td>Birmingham - Tuscaloosa - Anniston, AL</td><td>WABM                                  </td><td>68 (36)                               </td><td>2001                                  </td><td> 885                                  </td><td>33.484583; -86.807056                 </td><td>33.48458                              </td><td>-86.80706                             </td></tr>\n",
       "\t<tr><td>Birmingham - Tuscaloosa - Anniston, AL</td><td>WDBB                                  </td><td>17 (18)                               </td><td>1995                                  </td><td>  NA                                  </td><td>                                      </td><td>      NA                              </td><td>       NA                             </td></tr>\n",
       "\t<tr><td>Birmingham - Tuscaloosa - Anniston, AL</td><td>WBMA-LD                               </td><td>58 (40)                               </td><td>2014                                  </td><td> 885                                  </td><td>33.484583; -86.807056                 </td><td>33.48458                              </td><td>-86.80706                             </td></tr>\n",
       "\t<tr><td><span style=white-space:pre-wrap>Mobile, AL &amp; Pensacola, FL            </span></td><td>WEAR-TV                                                                           </td><td>3 (17)                                                                            </td><td>1997                                                                              </td><td>1000                                                                              </td><td>30.612611; -87.644889                                                             </td><td>30.61261                                                                          </td><td>-87.64489                                                                         </td></tr>\n",
       "\t<tr><td><span style=white-space:pre-wrap>Mobile, AL &amp; Pensacola, FL            </span></td><td>WPMI-TV                                                                           </td><td>15 (15)                                                                           </td><td>2012                                                                              </td><td>1000                                                                              </td><td>30.61139; -87.607333                                                              </td><td>30.61139                                                                          </td><td>-87.60733                                                                         </td></tr>\n",
       "</tbody>\n",
       "</table>\n"
      ],
      "text/latex": [
       "\\begin{tabular}{r|llllllll}\n",
       " Market & Station & Channel.RF. & Year & Power.kW & Location & Latitude & Longitude\\\\\n",
       "\\hline\n",
       "\t Birmingham - Tuscaloosa - Anniston, AL & WTTO                                   & 21 (28)                                & 1995                                   &  765                                   & 33.484583; -86.807083                  & 33.48458                               & -86.80708                             \\\\\n",
       "\t Birmingham - Tuscaloosa - Anniston, AL & WABM                                   & 68 (36)                                & 2001                                   &  885                                   & 33.484583; -86.807056                  & 33.48458                               & -86.80706                             \\\\\n",
       "\t Birmingham - Tuscaloosa - Anniston, AL & WDBB                                   & 17 (18)                                & 1995                                   &   NA                                   &                                        &       NA                               &        NA                             \\\\\n",
       "\t Birmingham - Tuscaloosa - Anniston, AL & WBMA-LD                                & 58 (40)                                & 2014                                   &  885                                   & 33.484583; -86.807056                  & 33.48458                               & -86.80706                             \\\\\n",
       "\t Mobile, AL \\& Pensacola, FL             & WEAR-TV                                  & 3 (17)                                   & 1997                                     & 1000                                     & 30.612611; -87.644889                    & 30.61261                                 & -87.64489                               \\\\\n",
       "\t Mobile, AL \\& Pensacola, FL             & WPMI-TV                                  & 15 (15)                                  & 2012                                     & 1000                                     & 30.61139; -87.607333                     & 30.61139                                 & -87.60733                               \\\\\n",
       "\\end{tabular}\n"
      ],
      "text/markdown": [
       "\n",
       "Market | Station | Channel.RF. | Year | Power.kW | Location | Latitude | Longitude | \n",
       "|---|---|---|---|---|---|\n",
       "| Birmingham - Tuscaloosa - Anniston, AL | WTTO                                   | 21 (28)                                | 1995                                   |  765                                   | 33.484583; -86.807083                  | 33.48458                               | -86.80708                              | \n",
       "| Birmingham - Tuscaloosa - Anniston, AL | WABM                                   | 68 (36)                                | 2001                                   |  885                                   | 33.484583; -86.807056                  | 33.48458                               | -86.80706                              | \n",
       "| Birmingham - Tuscaloosa - Anniston, AL | WDBB                                   | 17 (18)                                | 1995                                   |   NA                                   |                                        |       NA                               |        NA                              | \n",
       "| Birmingham - Tuscaloosa - Anniston, AL | WBMA-LD                                | 58 (40)                                | 2014                                   |  885                                   | 33.484583; -86.807056                  | 33.48458                               | -86.80706                              | \n",
       "| Mobile, AL & Pensacola, FL             | WEAR-TV                                | 3 (17)                                 | 1997                                   | 1000                                   | 30.612611; -87.644889                  | 30.61261                               | -87.64489                              | \n",
       "| Mobile, AL & Pensacola, FL             | WPMI-TV                                | 15 (15)                                | 2012                                   | 1000                                   | 30.61139; -87.607333                   | 30.61139                               | -87.60733                              | \n",
       "\n",
       "\n"
      ],
      "text/plain": [
       "  Market                                 Station Channel.RF. Year Power.kW\n",
       "1 Birmingham - Tuscaloosa - Anniston, AL WTTO    21 (28)     1995  765    \n",
       "2 Birmingham - Tuscaloosa - Anniston, AL WABM    68 (36)     2001  885    \n",
       "3 Birmingham - Tuscaloosa - Anniston, AL WDBB    17 (18)     1995   NA    \n",
       "4 Birmingham - Tuscaloosa - Anniston, AL WBMA-LD 58 (40)     2014  885    \n",
       "5 Mobile, AL & Pensacola, FL             WEAR-TV 3 (17)      1997 1000    \n",
       "6 Mobile, AL & Pensacola, FL             WPMI-TV 15 (15)     2012 1000    \n",
       "  Location              Latitude Longitude\n",
       "1 33.484583; -86.807083 33.48458 -86.80708\n",
       "2 33.484583; -86.807056 33.48458 -86.80706\n",
       "3                             NA        NA\n",
       "4 33.484583; -86.807056 33.48458 -86.80706\n",
       "5 30.612611; -87.644889 30.61261 -87.64489\n",
       "6 30.61139; -87.607333  30.61139 -87.60733"
      ]
     },
     "metadata": {},
     "output_type": "display_data"
    }
   ],
   "source": [
    "head(sinclair_station_df)"
   ]
  },
  {
   "cell_type": "markdown",
   "metadata": {},
   "source": [
    "Now, let's move onto cleaning up the second csv file `sinclair_stations_previous.csv`. This file basically contains the same information as the first, except that the `Year` column is now a character column with two dates: the start date and the end date."
   ]
  },
  {
   "cell_type": "code",
   "execution_count": 14,
   "metadata": {
    "collapsed": true
   },
   "outputs": [],
   "source": [
    "sinclair_station_prev_path <- \"Scraper/sinclair_stations_previous.csv\"\n",
    "sinclair_station_prev_df <- read.csv(sinclair_station_prev_path, stringsAsFactors = FALSE)\n",
    "sinclair_station_prev_df <- sinclair_station_prev_df[, c(1, 2, 3, 4, 6, 7, 8, 9)]"
   ]
  },
  {
   "cell_type": "code",
   "execution_count": 15,
   "metadata": {},
   "outputs": [
    {
     "data": {
      "text/html": [
       "<table>\n",
       "<thead><tr><th scope=col>Market</th><th scope=col>Station</th><th scope=col>Channel.RF.</th><th scope=col>Year</th><th scope=col>Power</th><th scope=col>Location</th><th scope=col>Latitude</th><th scope=col>Longitude</th></tr></thead>\n",
       "<tbody>\n",
       "\t<tr><td>Anniston, AL                 </td><td>WJSU-TV                      </td><td>40 (9)                       </td><td>2014-2015                    </td><td>                             </td><td>                             </td><td>      NA                     </td><td>        NA                   </td></tr>\n",
       "\t<tr><td>Tuscaloosa, AL               </td><td>WCFT-TV                      </td><td>33 (33)                      </td><td>2014-2015                    </td><td>                             </td><td>                             </td><td>      NA                     </td><td>        NA                   </td></tr>\n",
       "\t<tr><td>Stockton - Sacramento, CA    </td><td>KOVR                         </td><td>13 (25)                      </td><td>1997-2005                    </td><td>1,000 kW                     </td><td>38.24000; -121.50083         </td><td>38.24000                     </td><td>-121.50083                   </td></tr>\n",
       "\t<tr><td>Colorado Springs - Pueblo, CO</td><td>KXRM-TV                      </td><td>21 (22)                      </td><td>2013-2014                    </td><td>51 kW                        </td><td>38.745389; -104.860889       </td><td>38.74539                     </td><td>-104.86089                   </td></tr>\n",
       "\t<tr><td>Colorado Springs - Pueblo, CO</td><td>KXTU-LD                      </td><td>57 (20)                      </td><td>2013-2014                    </td><td>                             </td><td>                             </td><td>      NA                     </td><td>        NA                   </td></tr>\n",
       "\t<tr><td>St. Petersburg - Tampa       </td><td>WTTA                         </td><td>38 (32)                      </td><td>1991-2014                    </td><td>1,000 kW                     </td><td>27.84250; -82.262528         </td><td>27.84250                     </td><td> -82.26253                   </td></tr>\n",
       "</tbody>\n",
       "</table>\n"
      ],
      "text/latex": [
       "\\begin{tabular}{r|llllllll}\n",
       " Market & Station & Channel.RF. & Year & Power & Location & Latitude & Longitude\\\\\n",
       "\\hline\n",
       "\t Anniston, AL                  & WJSU-TV                       & 40 (9)                        & 2014-2015                     &                               &                               &       NA                      &         NA                   \\\\\n",
       "\t Tuscaloosa, AL                & WCFT-TV                       & 33 (33)                       & 2014-2015                     &                               &                               &       NA                      &         NA                   \\\\\n",
       "\t Stockton - Sacramento, CA     & KOVR                          & 13 (25)                       & 1997-2005                     & 1,000 kW                      & 38.24000; -121.50083          & 38.24000                      & -121.50083                   \\\\\n",
       "\t Colorado Springs - Pueblo, CO & KXRM-TV                       & 21 (22)                       & 2013-2014                     & 51 kW                         & 38.745389; -104.860889        & 38.74539                      & -104.86089                   \\\\\n",
       "\t Colorado Springs - Pueblo, CO & KXTU-LD                       & 57 (20)                       & 2013-2014                     &                               &                               &       NA                      &         NA                   \\\\\n",
       "\t St. Petersburg - Tampa        & WTTA                          & 38 (32)                       & 1991-2014                     & 1,000 kW                      & 27.84250; -82.262528          & 27.84250                      &  -82.26253                   \\\\\n",
       "\\end{tabular}\n"
      ],
      "text/markdown": [
       "\n",
       "Market | Station | Channel.RF. | Year | Power | Location | Latitude | Longitude | \n",
       "|---|---|---|---|---|---|\n",
       "| Anniston, AL                  | WJSU-TV                       | 40 (9)                        | 2014-2015                     |                               |                               |       NA                      |         NA                    | \n",
       "| Tuscaloosa, AL                | WCFT-TV                       | 33 (33)                       | 2014-2015                     |                               |                               |       NA                      |         NA                    | \n",
       "| Stockton - Sacramento, CA     | KOVR                          | 13 (25)                       | 1997-2005                     | 1,000 kW                      | 38.24000; -121.50083          | 38.24000                      | -121.50083                    | \n",
       "| Colorado Springs - Pueblo, CO | KXRM-TV                       | 21 (22)                       | 2013-2014                     | 51 kW                         | 38.745389; -104.860889        | 38.74539                      | -104.86089                    | \n",
       "| Colorado Springs - Pueblo, CO | KXTU-LD                       | 57 (20)                       | 2013-2014                     |                               |                               |       NA                      |         NA                    | \n",
       "| St. Petersburg - Tampa        | WTTA                          | 38 (32)                       | 1991-2014                     | 1,000 kW                      | 27.84250; -82.262528          | 27.84250                      |  -82.26253                    | \n",
       "\n",
       "\n"
      ],
      "text/plain": [
       "  Market                        Station Channel.RF. Year      Power   \n",
       "1 Anniston, AL                  WJSU-TV 40 (9)      2014-2015         \n",
       "2 Tuscaloosa, AL                WCFT-TV 33 (33)     2014-2015         \n",
       "3 Stockton - Sacramento, CA     KOVR    13 (25)     1997-2005 1,000 kW\n",
       "4 Colorado Springs - Pueblo, CO KXRM-TV 21 (22)     2013-2014 51 kW   \n",
       "5 Colorado Springs - Pueblo, CO KXTU-LD 57 (20)     2013-2014         \n",
       "6 St. Petersburg - Tampa        WTTA    38 (32)     1991-2014 1,000 kW\n",
       "  Location               Latitude Longitude \n",
       "1                              NA         NA\n",
       "2                              NA         NA\n",
       "3 38.24000; -121.50083   38.24000 -121.50083\n",
       "4 38.745389; -104.860889 38.74539 -104.86089\n",
       "5                              NA         NA\n",
       "6 27.84250; -82.262528   27.84250  -82.26253"
      ]
     },
     "metadata": {},
     "output_type": "display_data"
    }
   ],
   "source": [
    "head(sinclair_station_prev_df)"
   ]
  },
  {
   "cell_type": "markdown",
   "metadata": {},
   "source": [
    "Good news and bad news. \n",
    "\n",
    "Good news: this time around the web-scraper didn't miss any information! All of the missing values you see above actually don't exist on Wikipedia. \n",
    "\n",
    "Bad news: out of 27 rows of data, 7 of them have missing `Location` and `Power` information. Since I will be combining this dataset with the previous one, this missing data isn't the end of the world, but it may be worth it to independently chase it down if someone has time."
   ]
  },
  {
   "cell_type": "markdown",
   "metadata": {},
   "source": [
    "Now, we will do the same `Power` transformation that we did on the previous file."
   ]
  },
  {
   "cell_type": "code",
   "execution_count": 16,
   "metadata": {
    "collapsed": true
   },
   "outputs": [],
   "source": [
    "sinclair_station_prev_df$Power <- sub(\" kW\", \"\", sinclair_station_prev_df$Power) # Remove units\n",
    "sinclair_station_prev_df$Power <- sub(\",\", \"\", sinclair_station_prev_df$Power)   # Remove commas\n",
    "sinclair_station_prev_df$Power <- as.numeric(sinclair_station_prev_df$Power)     # Convert to numeric\n",
    "colnames(sinclair_station_prev_df)[5] <- \"Power.kW\"                              # Change column name"
   ]
  },
  {
   "cell_type": "code",
   "execution_count": 17,
   "metadata": {},
   "outputs": [
    {
     "data": {
      "text/html": [
       "<table>\n",
       "<thead><tr><th scope=col>Market</th><th scope=col>Station</th><th scope=col>Channel.RF.</th><th scope=col>Year</th><th scope=col>Power.kW</th><th scope=col>Location</th><th scope=col>Latitude</th><th scope=col>Longitude</th></tr></thead>\n",
       "<tbody>\n",
       "\t<tr><td>Anniston, AL                 </td><td>WJSU-TV                      </td><td>40 (9)                       </td><td>2014-2015                    </td><td>  NA                         </td><td>                             </td><td>      NA                     </td><td>        NA                   </td></tr>\n",
       "\t<tr><td>Tuscaloosa, AL               </td><td>WCFT-TV                      </td><td>33 (33)                      </td><td>2014-2015                    </td><td>  NA                         </td><td>                             </td><td>      NA                     </td><td>        NA                   </td></tr>\n",
       "\t<tr><td>Stockton - Sacramento, CA    </td><td>KOVR                         </td><td>13 (25)                      </td><td>1997-2005                    </td><td>1000                         </td><td>38.24000; -121.50083         </td><td>38.24000                     </td><td>-121.50083                   </td></tr>\n",
       "\t<tr><td>Colorado Springs - Pueblo, CO</td><td>KXRM-TV                      </td><td>21 (22)                      </td><td>2013-2014                    </td><td>  51                         </td><td>38.745389; -104.860889       </td><td>38.74539                     </td><td>-104.86089                   </td></tr>\n",
       "\t<tr><td>Colorado Springs - Pueblo, CO</td><td>KXTU-LD                      </td><td>57 (20)                      </td><td>2013-2014                    </td><td>  NA                         </td><td>                             </td><td>      NA                     </td><td>        NA                   </td></tr>\n",
       "\t<tr><td>St. Petersburg - Tampa       </td><td>WTTA                         </td><td>38 (32)                      </td><td>1991-2014                    </td><td>1000                         </td><td>27.84250; -82.262528         </td><td>27.84250                     </td><td> -82.26253                   </td></tr>\n",
       "</tbody>\n",
       "</table>\n"
      ],
      "text/latex": [
       "\\begin{tabular}{r|llllllll}\n",
       " Market & Station & Channel.RF. & Year & Power.kW & Location & Latitude & Longitude\\\\\n",
       "\\hline\n",
       "\t Anniston, AL                  & WJSU-TV                       & 40 (9)                        & 2014-2015                     &   NA                          &                               &       NA                      &         NA                   \\\\\n",
       "\t Tuscaloosa, AL                & WCFT-TV                       & 33 (33)                       & 2014-2015                     &   NA                          &                               &       NA                      &         NA                   \\\\\n",
       "\t Stockton - Sacramento, CA     & KOVR                          & 13 (25)                       & 1997-2005                     & 1000                          & 38.24000; -121.50083          & 38.24000                      & -121.50083                   \\\\\n",
       "\t Colorado Springs - Pueblo, CO & KXRM-TV                       & 21 (22)                       & 2013-2014                     &   51                          & 38.745389; -104.860889        & 38.74539                      & -104.86089                   \\\\\n",
       "\t Colorado Springs - Pueblo, CO & KXTU-LD                       & 57 (20)                       & 2013-2014                     &   NA                          &                               &       NA                      &         NA                   \\\\\n",
       "\t St. Petersburg - Tampa        & WTTA                          & 38 (32)                       & 1991-2014                     & 1000                          & 27.84250; -82.262528          & 27.84250                      &  -82.26253                   \\\\\n",
       "\\end{tabular}\n"
      ],
      "text/markdown": [
       "\n",
       "Market | Station | Channel.RF. | Year | Power.kW | Location | Latitude | Longitude | \n",
       "|---|---|---|---|---|---|\n",
       "| Anniston, AL                  | WJSU-TV                       | 40 (9)                        | 2014-2015                     |   NA                          |                               |       NA                      |         NA                    | \n",
       "| Tuscaloosa, AL                | WCFT-TV                       | 33 (33)                       | 2014-2015                     |   NA                          |                               |       NA                      |         NA                    | \n",
       "| Stockton - Sacramento, CA     | KOVR                          | 13 (25)                       | 1997-2005                     | 1000                          | 38.24000; -121.50083          | 38.24000                      | -121.50083                    | \n",
       "| Colorado Springs - Pueblo, CO | KXRM-TV                       | 21 (22)                       | 2013-2014                     |   51                          | 38.745389; -104.860889        | 38.74539                      | -104.86089                    | \n",
       "| Colorado Springs - Pueblo, CO | KXTU-LD                       | 57 (20)                       | 2013-2014                     |   NA                          |                               |       NA                      |         NA                    | \n",
       "| St. Petersburg - Tampa        | WTTA                          | 38 (32)                       | 1991-2014                     | 1000                          | 27.84250; -82.262528          | 27.84250                      |  -82.26253                    | \n",
       "\n",
       "\n"
      ],
      "text/plain": [
       "  Market                        Station Channel.RF. Year      Power.kW\n",
       "1 Anniston, AL                  WJSU-TV 40 (9)      2014-2015   NA    \n",
       "2 Tuscaloosa, AL                WCFT-TV 33 (33)     2014-2015   NA    \n",
       "3 Stockton - Sacramento, CA     KOVR    13 (25)     1997-2005 1000    \n",
       "4 Colorado Springs - Pueblo, CO KXRM-TV 21 (22)     2013-2014   51    \n",
       "5 Colorado Springs - Pueblo, CO KXTU-LD 57 (20)     2013-2014   NA    \n",
       "6 St. Petersburg - Tampa        WTTA    38 (32)     1991-2014 1000    \n",
       "  Location               Latitude Longitude \n",
       "1                              NA         NA\n",
       "2                              NA         NA\n",
       "3 38.24000; -121.50083   38.24000 -121.50083\n",
       "4 38.745389; -104.860889 38.74539 -104.86089\n",
       "5                              NA         NA\n",
       "6 27.84250; -82.262528   27.84250  -82.26253"
      ]
     },
     "metadata": {},
     "output_type": "display_data"
    }
   ],
   "source": [
    "head(sinclair_station_prev_df)"
   ]
  },
  {
   "cell_type": "markdown",
   "metadata": {},
   "source": [
    "To finish the cleanup, we separate out the start and end dates from the `Year` column and split them out into their own. It helps that (almost) every entry is given in `<year>-<year>` form; it makes it much easier to extract. \n",
    "\n",
    "There are a few entries that only show one year. This implies that Sinclair only owned that station for a single year before selling it. We can handle this by setting the end date equal to the start date."
   ]
  },
  {
   "cell_type": "code",
   "execution_count": 18,
   "metadata": {
    "collapsed": true
   },
   "outputs": [],
   "source": [
    "# Separate start and end dates\n",
    "sinclair_station_prev_df$Year.Start <- substr(sinclair_station_prev_df$Year, 1, 4) # First 4 characters\n",
    "sinclair_station_prev_df$Year.End <- substr(sinclair_station_prev_df$Year, 6, 9)   # Last 4 characters\n",
    "\n",
    "# Some stations were only owned for a year so only one piece of data was listed\n",
    "# Take care of this by creating a mask and copying over the right values\n",
    "one_year_mask <- sinclair_station_prev_df$Year.End == \"\"\n",
    "sinclair_station_prev_df$Year.End[one_year_mask] <- sinclair_station_prev_df$Year.Start[one_year_mask]\n",
    "\n",
    "# Remember to conver to numeric\n",
    "sinclair_station_prev_df[c(\"Year.Start\", \"Year.End\")] <- sapply(\n",
    "    sinclair_station_prev_df[c(\"Year.Start\", \"Year.End\")], as.numeric)"
   ]
  },
  {
   "cell_type": "code",
   "execution_count": 19,
   "metadata": {},
   "outputs": [
    {
     "data": {
      "text/html": [
       "<table>\n",
       "<thead><tr><th scope=col>Market</th><th scope=col>Station</th><th scope=col>Channel.RF.</th><th scope=col>Year</th><th scope=col>Power.kW</th><th scope=col>Location</th><th scope=col>Latitude</th><th scope=col>Longitude</th><th scope=col>Year.Start</th><th scope=col>Year.End</th></tr></thead>\n",
       "<tbody>\n",
       "\t<tr><td>Anniston, AL                             </td><td>WJSU-TV                                  </td><td>40 (9)                                   </td><td>2014-2015                                </td><td>    NA                                   </td><td>                                         </td><td>      NA                                 </td><td>        NA                               </td><td>2014                                     </td><td>2015                                     </td></tr>\n",
       "\t<tr><td>Tuscaloosa, AL                           </td><td>WCFT-TV                                  </td><td>33 (33)                                  </td><td>2014-2015                                </td><td>    NA                                   </td><td>                                         </td><td>      NA                                 </td><td>        NA                               </td><td>2014                                     </td><td>2015                                     </td></tr>\n",
       "\t<tr><td>Stockton - Sacramento, CA                </td><td>KOVR                                     </td><td>13 (25)                                  </td><td>1997-2005                                </td><td>1000.0                                   </td><td>38.24000; -121.50083                     </td><td>38.24000                                 </td><td>-121.50083                               </td><td>1997                                     </td><td>2005                                     </td></tr>\n",
       "\t<tr><td>Colorado Springs - Pueblo, CO            </td><td>KXRM-TV                                  </td><td>21 (22)                                  </td><td>2013-2014                                </td><td>  51.0                                   </td><td>38.745389; -104.860889                   </td><td>38.74539                                 </td><td>-104.86089                               </td><td>2013                                     </td><td>2014                                     </td></tr>\n",
       "\t<tr><td>Colorado Springs - Pueblo, CO            </td><td>KXTU-LD                                  </td><td>57 (20)                                  </td><td>2013-2014                                </td><td>    NA                                   </td><td>                                         </td><td>      NA                                 </td><td>        NA                               </td><td>2013                                     </td><td>2014                                     </td></tr>\n",
       "\t<tr><td>St. Petersburg - Tampa                   </td><td>WTTA                                     </td><td>38 (32)                                  </td><td>1991-2014                                </td><td>1000.0                                   </td><td>27.84250; -82.262528                     </td><td>27.84250                                 </td><td> -82.26253                               </td><td>1991                                     </td><td>2014                                     </td></tr>\n",
       "\t<tr><td>Tallahassee, FL - Thomasville, GA        </td><td>WTXL-TV                                  </td><td>27 (27)                                  </td><td>2001-2006                                </td><td>1000.0                                   </td><td>30.66833; -83.96944                      </td><td>30.66833                                 </td><td> -83.96944                               </td><td>2001                                     </td><td>2006                                     </td></tr>\n",
       "\t<tr><td>Idaho Falls - Pocatello                  </td><td>KIDK                                     </td><td>3 (36)                                   </td><td>2013                                     </td><td> 200.0                                   </td><td>43.497389; -112.664639                   </td><td>43.49739                                 </td><td>-112.66464                               </td><td>2013                                     </td><td>2013                                     </td></tr>\n",
       "\t<tr><td>Idaho Falls - Pocatello                  </td><td>KXPI-LD                                  </td><td>34 (34)                                  </td><td>2013                                     </td><td>   5.2                                   </td><td>42.866111; -112.513333                   </td><td>42.86611                                 </td><td>-112.51333                               </td><td>2013                                     </td><td>2013                                     </td></tr>\n",
       "\t<tr><td>Bloomington - Indianapolis               </td><td>WIIB                                     </td><td>63 (27)                                  </td><td>1988-1997                                </td><td>    NA                                   </td><td>                                         </td><td>      NA                                 </td><td>        NA                               </td><td>1988                                     </td><td>1997                                     </td></tr>\n",
       "\t<tr><td>Bloomington - Indianapolis               </td><td>WTTV                                     </td><td>4 (48)                                   </td><td>1997-2002                                </td><td> 870.0                                   </td><td>39.40750; -86.14778                      </td><td>39.40750                                 </td><td> -86.14778                               </td><td>1997                                     </td><td>2002                                     </td></tr>\n",
       "\t<tr><td>Kokomo, Indiana                          </td><td>WTTK                                     </td><td>29 (29)                                  </td><td>1997-2002                                </td><td>    NA                                   </td><td>                                         </td><td>      NA                                 </td><td>        NA                               </td><td>1997                                     </td><td>2002                                     </td></tr>\n",
       "\t<tr><td>Springfield - Holyoke, MA                </td><td>WGGB-TV                                  </td><td>40 (40)                                  </td><td>1998-2007                                </td><td> 460.0                                   </td><td>42.241667; -72.649167                    </td><td>42.24167                                 </td><td> -72.64917                               </td><td>1998                                     </td><td>2007                                     </td></tr>\n",
       "\t<tr><td>New Bedford, MA - Providence, RI         </td><td>WLWC                                     </td><td>28 (22)                                  </td><td>2012-2013                                </td><td> 350.0                                   </td><td>41.777333; -70.927556                    </td><td>41.77733                                 </td><td> -70.92756                               </td><td>2012                                     </td><td>2013                                     </td></tr>\n",
       "\t<tr><td>Lansing, Michigan                        </td><td>WLAJ                                     </td><td>53 (51)                                  </td><td>2012-2013                                </td><td> 483.3                                   </td><td>42.42028; -84.52361                      </td><td>42.42028                                 </td><td> -84.52361                               </td><td>2012                                     </td><td>2013                                     </td></tr>\n",
       "\t<tr><td>Marquette, Michigan                      </td><td>WLUC-TV                                  </td><td>6 (35)                                   </td><td>2013-2016                                </td><td>  63.0                                   </td><td>46.336833; -87.849083                    </td><td>46.33683                                 </td><td> -87.84908                               </td><td>2013                                     </td><td>2016                                     </td></tr>\n",
       "\t<tr><td>Kansas City, Missouri                    </td><td>KSMO-TV                                  </td><td>62 (47)                                  </td><td>1996-2005                                </td><td>1000.0                                   </td><td>39.090500; -94.472000                    </td><td>39.09050                                 </td><td> -94.47200                               </td><td>1996                                     </td><td>2005                                     </td></tr>\n",
       "\t<tr><td>Plattsburgh, NY - Burlington, VT         </td><td>WPTZ                                     </td><td>5 (14)                                   </td><td>1997-1998                                </td><td> 650.0                                   </td><td>44.52556; -72.81556                      </td><td>44.52556                                 </td><td> -72.81556                               </td><td>1997                                     </td><td>1998                                     </td></tr>\n",
       "\t<tr><td>Syracuse, NY                             </td><td>WNYS-TV                                  </td><td>43 (44)                                  </td><td>                                         </td><td> 680.0                                   </td><td>42.88056; -76.20000                      </td><td>42.88056                                 </td><td> -76.20000                               </td><td>  NA                                     </td><td>  NA                                     </td></tr>\n",
       "\t<tr><td>Syracuse, NY                             </td><td>WSYT                                     </td><td>68 (19)                                  </td><td>1998-2013                                </td><td> 621.0                                   </td><td>42.88056; -76.20000                      </td><td>42.88056                                 </td><td> -76.20000                               </td><td>1998                                     </td><td>2013                                     </td></tr>\n",
       "\t<tr><td>Harrisburg - Lancaster - Lebanon - York  </td><td>WLYH-TV                                  </td><td>15 (23)                                  </td><td>                                         </td><td>    NA                                   </td><td>                                         </td><td>      NA                                 </td><td>        NA                               </td><td>  NA                                     </td><td>  NA                                     </td></tr>\n",
       "\t<tr><td>Harrisburg - Lancaster - Lebanon - York  </td><td>WHTM-TV                                  </td><td>27 (10)                                  </td><td>2014                                     </td><td>  16.2                                   </td><td>40.31611; -76.95028                      </td><td>40.31611                                 </td><td> -76.95028                               </td><td>2014                                     </td><td>2014                                     </td></tr>\n",
       "\t<tr><td>Charleston, SC                           </td><td>WCIV                                     </td><td>4 (34)                                   </td><td>2014-2015                                </td><td>    NA                                   </td><td>                                         </td><td>      NA                                 </td><td>        NA                               </td><td>2014                                     </td><td>2015                                     </td></tr>\n",
       "\t<tr><td>Greenville, Tennessee (Tri-Cities, TN-VA)</td><td>WEMT                                     </td><td>39 (38)                                  </td><td>2000-2006                                </td><td>1000.0                                   </td><td>36.449500; -82.107972                    </td><td>36.44950                                 </td><td> -82.10797                               </td><td>2000                                     </td><td>2006                                     </td></tr>\n",
       "\t<tr><td>Jacksonville - Tyler - Longview, TX      </td><td>KETK-TV                                  </td><td>56 (22)                                  </td><td>1998-2004                                </td><td>1000.0                                   </td><td>32.06111; -95.31389                      </td><td>32.06111                                 </td><td> -95.31389                               </td><td>1998                                     </td><td>2004                                     </td></tr>\n",
       "\t<tr><td>Hartford, VT - Hanover, N.H.             </td><td>WNNE                                     </td><td>31 (25)                                  </td><td>1997-1998                                </td><td> 117.0                                   </td><td>43.44333; -72.45417                      </td><td>43.44333                                 </td><td> -72.45417                               </td><td>1997                                     </td><td>1998                                     </td></tr>\n",
       "</tbody>\n",
       "</table>\n"
      ],
      "text/latex": [
       "\\begin{tabular}{r|llllllllll}\n",
       " Market & Station & Channel.RF. & Year & Power.kW & Location & Latitude & Longitude & Year.Start & Year.End\\\\\n",
       "\\hline\n",
       "\t Anniston, AL                              & WJSU-TV                                   & 40 (9)                                    & 2014-2015                                 &     NA                                    &                                           &       NA                                  &         NA                                & 2014                                      & 2015                                     \\\\\n",
       "\t Tuscaloosa, AL                            & WCFT-TV                                   & 33 (33)                                   & 2014-2015                                 &     NA                                    &                                           &       NA                                  &         NA                                & 2014                                      & 2015                                     \\\\\n",
       "\t Stockton - Sacramento, CA                 & KOVR                                      & 13 (25)                                   & 1997-2005                                 & 1000.0                                    & 38.24000; -121.50083                      & 38.24000                                  & -121.50083                                & 1997                                      & 2005                                     \\\\\n",
       "\t Colorado Springs - Pueblo, CO             & KXRM-TV                                   & 21 (22)                                   & 2013-2014                                 &   51.0                                    & 38.745389; -104.860889                    & 38.74539                                  & -104.86089                                & 2013                                      & 2014                                     \\\\\n",
       "\t Colorado Springs - Pueblo, CO             & KXTU-LD                                   & 57 (20)                                   & 2013-2014                                 &     NA                                    &                                           &       NA                                  &         NA                                & 2013                                      & 2014                                     \\\\\n",
       "\t St. Petersburg - Tampa                    & WTTA                                      & 38 (32)                                   & 1991-2014                                 & 1000.0                                    & 27.84250; -82.262528                      & 27.84250                                  &  -82.26253                                & 1991                                      & 2014                                     \\\\\n",
       "\t Tallahassee, FL - Thomasville, GA         & WTXL-TV                                   & 27 (27)                                   & 2001-2006                                 & 1000.0                                    & 30.66833; -83.96944                       & 30.66833                                  &  -83.96944                                & 2001                                      & 2006                                     \\\\\n",
       "\t Idaho Falls - Pocatello                   & KIDK                                      & 3 (36)                                    & 2013                                      &  200.0                                    & 43.497389; -112.664639                    & 43.49739                                  & -112.66464                                & 2013                                      & 2013                                     \\\\\n",
       "\t Idaho Falls - Pocatello                   & KXPI-LD                                   & 34 (34)                                   & 2013                                      &    5.2                                    & 42.866111; -112.513333                    & 42.86611                                  & -112.51333                                & 2013                                      & 2013                                     \\\\\n",
       "\t Bloomington - Indianapolis                & WIIB                                      & 63 (27)                                   & 1988-1997                                 &     NA                                    &                                           &       NA                                  &         NA                                & 1988                                      & 1997                                     \\\\\n",
       "\t Bloomington - Indianapolis                & WTTV                                      & 4 (48)                                    & 1997-2002                                 &  870.0                                    & 39.40750; -86.14778                       & 39.40750                                  &  -86.14778                                & 1997                                      & 2002                                     \\\\\n",
       "\t Kokomo, Indiana                           & WTTK                                      & 29 (29)                                   & 1997-2002                                 &     NA                                    &                                           &       NA                                  &         NA                                & 1997                                      & 2002                                     \\\\\n",
       "\t Springfield - Holyoke, MA                 & WGGB-TV                                   & 40 (40)                                   & 1998-2007                                 &  460.0                                    & 42.241667; -72.649167                     & 42.24167                                  &  -72.64917                                & 1998                                      & 2007                                     \\\\\n",
       "\t New Bedford, MA - Providence, RI          & WLWC                                      & 28 (22)                                   & 2012-2013                                 &  350.0                                    & 41.777333; -70.927556                     & 41.77733                                  &  -70.92756                                & 2012                                      & 2013                                     \\\\\n",
       "\t Lansing, Michigan                         & WLAJ                                      & 53 (51)                                   & 2012-2013                                 &  483.3                                    & 42.42028; -84.52361                       & 42.42028                                  &  -84.52361                                & 2012                                      & 2013                                     \\\\\n",
       "\t Marquette, Michigan                       & WLUC-TV                                   & 6 (35)                                    & 2013-2016                                 &   63.0                                    & 46.336833; -87.849083                     & 46.33683                                  &  -87.84908                                & 2013                                      & 2016                                     \\\\\n",
       "\t Kansas City, Missouri                     & KSMO-TV                                   & 62 (47)                                   & 1996-2005                                 & 1000.0                                    & 39.090500; -94.472000                     & 39.09050                                  &  -94.47200                                & 1996                                      & 2005                                     \\\\\n",
       "\t Plattsburgh, NY - Burlington, VT          & WPTZ                                      & 5 (14)                                    & 1997-1998                                 &  650.0                                    & 44.52556; -72.81556                       & 44.52556                                  &  -72.81556                                & 1997                                      & 1998                                     \\\\\n",
       "\t Syracuse, NY                              & WNYS-TV                                   & 43 (44)                                   &                                           &  680.0                                    & 42.88056; -76.20000                       & 42.88056                                  &  -76.20000                                &   NA                                      &   NA                                     \\\\\n",
       "\t Syracuse, NY                              & WSYT                                      & 68 (19)                                   & 1998-2013                                 &  621.0                                    & 42.88056; -76.20000                       & 42.88056                                  &  -76.20000                                & 1998                                      & 2013                                     \\\\\n",
       "\t Harrisburg - Lancaster - Lebanon - York   & WLYH-TV                                   & 15 (23)                                   &                                           &     NA                                    &                                           &       NA                                  &         NA                                &   NA                                      &   NA                                     \\\\\n",
       "\t Harrisburg - Lancaster - Lebanon - York   & WHTM-TV                                   & 27 (10)                                   & 2014                                      &   16.2                                    & 40.31611; -76.95028                       & 40.31611                                  &  -76.95028                                & 2014                                      & 2014                                     \\\\\n",
       "\t Charleston, SC                            & WCIV                                      & 4 (34)                                    & 2014-2015                                 &     NA                                    &                                           &       NA                                  &         NA                                & 2014                                      & 2015                                     \\\\\n",
       "\t Greenville, Tennessee (Tri-Cities, TN-VA) & WEMT                                      & 39 (38)                                   & 2000-2006                                 & 1000.0                                    & 36.449500; -82.107972                     & 36.44950                                  &  -82.10797                                & 2000                                      & 2006                                     \\\\\n",
       "\t Jacksonville - Tyler - Longview, TX       & KETK-TV                                   & 56 (22)                                   & 1998-2004                                 & 1000.0                                    & 32.06111; -95.31389                       & 32.06111                                  &  -95.31389                                & 1998                                      & 2004                                     \\\\\n",
       "\t Hartford, VT - Hanover, N.H.              & WNNE                                      & 31 (25)                                   & 1997-1998                                 &  117.0                                    & 43.44333; -72.45417                       & 43.44333                                  &  -72.45417                                & 1997                                      & 1998                                     \\\\\n",
       "\\end{tabular}\n"
      ],
      "text/markdown": [
       "\n",
       "Market | Station | Channel.RF. | Year | Power.kW | Location | Latitude | Longitude | Year.Start | Year.End | \n",
       "|---|---|---|---|---|---|---|---|---|---|---|---|---|---|---|---|---|---|---|---|---|---|---|---|---|---|\n",
       "| Anniston, AL                              | WJSU-TV                                   | 40 (9)                                    | 2014-2015                                 |     NA                                    |                                           |       NA                                  |         NA                                | 2014                                      | 2015                                      | \n",
       "| Tuscaloosa, AL                            | WCFT-TV                                   | 33 (33)                                   | 2014-2015                                 |     NA                                    |                                           |       NA                                  |         NA                                | 2014                                      | 2015                                      | \n",
       "| Stockton - Sacramento, CA                 | KOVR                                      | 13 (25)                                   | 1997-2005                                 | 1000.0                                    | 38.24000; -121.50083                      | 38.24000                                  | -121.50083                                | 1997                                      | 2005                                      | \n",
       "| Colorado Springs - Pueblo, CO             | KXRM-TV                                   | 21 (22)                                   | 2013-2014                                 |   51.0                                    | 38.745389; -104.860889                    | 38.74539                                  | -104.86089                                | 2013                                      | 2014                                      | \n",
       "| Colorado Springs - Pueblo, CO             | KXTU-LD                                   | 57 (20)                                   | 2013-2014                                 |     NA                                    |                                           |       NA                                  |         NA                                | 2013                                      | 2014                                      | \n",
       "| St. Petersburg - Tampa                    | WTTA                                      | 38 (32)                                   | 1991-2014                                 | 1000.0                                    | 27.84250; -82.262528                      | 27.84250                                  |  -82.26253                                | 1991                                      | 2014                                      | \n",
       "| Tallahassee, FL - Thomasville, GA         | WTXL-TV                                   | 27 (27)                                   | 2001-2006                                 | 1000.0                                    | 30.66833; -83.96944                       | 30.66833                                  |  -83.96944                                | 2001                                      | 2006                                      | \n",
       "| Idaho Falls - Pocatello                   | KIDK                                      | 3 (36)                                    | 2013                                      |  200.0                                    | 43.497389; -112.664639                    | 43.49739                                  | -112.66464                                | 2013                                      | 2013                                      | \n",
       "| Idaho Falls - Pocatello                   | KXPI-LD                                   | 34 (34)                                   | 2013                                      |    5.2                                    | 42.866111; -112.513333                    | 42.86611                                  | -112.51333                                | 2013                                      | 2013                                      | \n",
       "| Bloomington - Indianapolis                | WIIB                                      | 63 (27)                                   | 1988-1997                                 |     NA                                    |                                           |       NA                                  |         NA                                | 1988                                      | 1997                                      | \n",
       "| Bloomington - Indianapolis                | WTTV                                      | 4 (48)                                    | 1997-2002                                 |  870.0                                    | 39.40750; -86.14778                       | 39.40750                                  |  -86.14778                                | 1997                                      | 2002                                      | \n",
       "| Kokomo, Indiana                           | WTTK                                      | 29 (29)                                   | 1997-2002                                 |     NA                                    |                                           |       NA                                  |         NA                                | 1997                                      | 2002                                      | \n",
       "| Springfield - Holyoke, MA                 | WGGB-TV                                   | 40 (40)                                   | 1998-2007                                 |  460.0                                    | 42.241667; -72.649167                     | 42.24167                                  |  -72.64917                                | 1998                                      | 2007                                      | \n",
       "| New Bedford, MA - Providence, RI          | WLWC                                      | 28 (22)                                   | 2012-2013                                 |  350.0                                    | 41.777333; -70.927556                     | 41.77733                                  |  -70.92756                                | 2012                                      | 2013                                      | \n",
       "| Lansing, Michigan                         | WLAJ                                      | 53 (51)                                   | 2012-2013                                 |  483.3                                    | 42.42028; -84.52361                       | 42.42028                                  |  -84.52361                                | 2012                                      | 2013                                      | \n",
       "| Marquette, Michigan                       | WLUC-TV                                   | 6 (35)                                    | 2013-2016                                 |   63.0                                    | 46.336833; -87.849083                     | 46.33683                                  |  -87.84908                                | 2013                                      | 2016                                      | \n",
       "| Kansas City, Missouri                     | KSMO-TV                                   | 62 (47)                                   | 1996-2005                                 | 1000.0                                    | 39.090500; -94.472000                     | 39.09050                                  |  -94.47200                                | 1996                                      | 2005                                      | \n",
       "| Plattsburgh, NY - Burlington, VT          | WPTZ                                      | 5 (14)                                    | 1997-1998                                 |  650.0                                    | 44.52556; -72.81556                       | 44.52556                                  |  -72.81556                                | 1997                                      | 1998                                      | \n",
       "| Syracuse, NY                              | WNYS-TV                                   | 43 (44)                                   |                                           |  680.0                                    | 42.88056; -76.20000                       | 42.88056                                  |  -76.20000                                |   NA                                      |   NA                                      | \n",
       "| Syracuse, NY                              | WSYT                                      | 68 (19)                                   | 1998-2013                                 |  621.0                                    | 42.88056; -76.20000                       | 42.88056                                  |  -76.20000                                | 1998                                      | 2013                                      | \n",
       "| Harrisburg - Lancaster - Lebanon - York   | WLYH-TV                                   | 15 (23)                                   |                                           |     NA                                    |                                           |       NA                                  |         NA                                |   NA                                      |   NA                                      | \n",
       "| Harrisburg - Lancaster - Lebanon - York   | WHTM-TV                                   | 27 (10)                                   | 2014                                      |   16.2                                    | 40.31611; -76.95028                       | 40.31611                                  |  -76.95028                                | 2014                                      | 2014                                      | \n",
       "| Charleston, SC                            | WCIV                                      | 4 (34)                                    | 2014-2015                                 |     NA                                    |                                           |       NA                                  |         NA                                | 2014                                      | 2015                                      | \n",
       "| Greenville, Tennessee (Tri-Cities, TN-VA) | WEMT                                      | 39 (38)                                   | 2000-2006                                 | 1000.0                                    | 36.449500; -82.107972                     | 36.44950                                  |  -82.10797                                | 2000                                      | 2006                                      | \n",
       "| Jacksonville - Tyler - Longview, TX       | KETK-TV                                   | 56 (22)                                   | 1998-2004                                 | 1000.0                                    | 32.06111; -95.31389                       | 32.06111                                  |  -95.31389                                | 1998                                      | 2004                                      | \n",
       "| Hartford, VT - Hanover, N.H.              | WNNE                                      | 31 (25)                                   | 1997-1998                                 |  117.0                                    | 43.44333; -72.45417                       | 43.44333                                  |  -72.45417                                | 1997                                      | 1998                                      | \n",
       "\n",
       "\n"
      ],
      "text/plain": [
       "   Market                                    Station Channel.RF. Year     \n",
       "1  Anniston, AL                              WJSU-TV 40 (9)      2014-2015\n",
       "2  Tuscaloosa, AL                            WCFT-TV 33 (33)     2014-2015\n",
       "3  Stockton - Sacramento, CA                 KOVR    13 (25)     1997-2005\n",
       "4  Colorado Springs - Pueblo, CO             KXRM-TV 21 (22)     2013-2014\n",
       "5  Colorado Springs - Pueblo, CO             KXTU-LD 57 (20)     2013-2014\n",
       "6  St. Petersburg - Tampa                    WTTA    38 (32)     1991-2014\n",
       "7  Tallahassee, FL - Thomasville, GA         WTXL-TV 27 (27)     2001-2006\n",
       "8  Idaho Falls - Pocatello                   KIDK    3 (36)      2013     \n",
       "9  Idaho Falls - Pocatello                   KXPI-LD 34 (34)     2013     \n",
       "10 Bloomington - Indianapolis                WIIB    63 (27)     1988-1997\n",
       "11 Bloomington - Indianapolis                WTTV    4 (48)      1997-2002\n",
       "12 Kokomo, Indiana                           WTTK    29 (29)     1997-2002\n",
       "13 Springfield - Holyoke, MA                 WGGB-TV 40 (40)     1998-2007\n",
       "14 New Bedford, MA - Providence, RI          WLWC    28 (22)     2012-2013\n",
       "15 Lansing, Michigan                         WLAJ    53 (51)     2012-2013\n",
       "16 Marquette, Michigan                       WLUC-TV 6 (35)      2013-2016\n",
       "17 Kansas City, Missouri                     KSMO-TV 62 (47)     1996-2005\n",
       "18 Plattsburgh, NY - Burlington, VT          WPTZ    5 (14)      1997-1998\n",
       "19 Syracuse, NY                              WNYS-TV 43 (44)              \n",
       "20 Syracuse, NY                              WSYT    68 (19)     1998-2013\n",
       "21 Harrisburg - Lancaster - Lebanon - York   WLYH-TV 15 (23)              \n",
       "22 Harrisburg - Lancaster - Lebanon - York   WHTM-TV 27 (10)     2014     \n",
       "23 Charleston, SC                            WCIV    4 (34)      2014-2015\n",
       "24 Greenville, Tennessee (Tri-Cities, TN-VA) WEMT    39 (38)     2000-2006\n",
       "25 Jacksonville - Tyler - Longview, TX       KETK-TV 56 (22)     1998-2004\n",
       "26 Hartford, VT - Hanover, N.H.              WNNE    31 (25)     1997-1998\n",
       "   Power.kW Location               Latitude Longitude  Year.Start Year.End\n",
       "1      NA                                NA         NA 2014       2015    \n",
       "2      NA                                NA         NA 2014       2015    \n",
       "3  1000.0   38.24000; -121.50083   38.24000 -121.50083 1997       2005    \n",
       "4    51.0   38.745389; -104.860889 38.74539 -104.86089 2013       2014    \n",
       "5      NA                                NA         NA 2013       2014    \n",
       "6  1000.0   27.84250; -82.262528   27.84250  -82.26253 1991       2014    \n",
       "7  1000.0   30.66833; -83.96944    30.66833  -83.96944 2001       2006    \n",
       "8   200.0   43.497389; -112.664639 43.49739 -112.66464 2013       2013    \n",
       "9     5.2   42.866111; -112.513333 42.86611 -112.51333 2013       2013    \n",
       "10     NA                                NA         NA 1988       1997    \n",
       "11  870.0   39.40750; -86.14778    39.40750  -86.14778 1997       2002    \n",
       "12     NA                                NA         NA 1997       2002    \n",
       "13  460.0   42.241667; -72.649167  42.24167  -72.64917 1998       2007    \n",
       "14  350.0   41.777333; -70.927556  41.77733  -70.92756 2012       2013    \n",
       "15  483.3   42.42028; -84.52361    42.42028  -84.52361 2012       2013    \n",
       "16   63.0   46.336833; -87.849083  46.33683  -87.84908 2013       2016    \n",
       "17 1000.0   39.090500; -94.472000  39.09050  -94.47200 1996       2005    \n",
       "18  650.0   44.52556; -72.81556    44.52556  -72.81556 1997       1998    \n",
       "19  680.0   42.88056; -76.20000    42.88056  -76.20000   NA         NA    \n",
       "20  621.0   42.88056; -76.20000    42.88056  -76.20000 1998       2013    \n",
       "21     NA                                NA         NA   NA         NA    \n",
       "22   16.2   40.31611; -76.95028    40.31611  -76.95028 2014       2014    \n",
       "23     NA                                NA         NA 2014       2015    \n",
       "24 1000.0   36.449500; -82.107972  36.44950  -82.10797 2000       2006    \n",
       "25 1000.0   32.06111; -95.31389    32.06111  -95.31389 1998       2004    \n",
       "26  117.0   43.44333; -72.45417    43.44333  -72.45417 1997       1998    "
      ]
     },
     "metadata": {},
     "output_type": "display_data"
    }
   ],
   "source": [
    "sinclair_station_prev_df"
   ]
  },
  {
   "cell_type": "markdown",
   "metadata": {},
   "source": [
    "### Merging the Datasets\n",
    "\n",
    "Now that we finished the cleanup of both csv files, we are almost ready to get on to the fun part; analysis!. However, our life will be much easier once we start plotting if we first combine both datasets into one large one. \n",
    "\n",
    "This is pretty simple to do; we'll just add the `Year.Start` and `Year.End` columns to the `sinclair_stations_df` so that it looks like `sinclair_stations_prev_df`. \"But the stations in the first dataset don't have end dates!\", you say. Well, we can just give all those stations the value `NA` for their `Year.End` column. It's important to remember that we've done this, however, so that we correctly set the limits on our graphs later."
   ]
  },
  {
   "cell_type": "code",
   "execution_count": 20,
   "metadata": {
    "collapsed": true
   },
   "outputs": [],
   "source": [
    "# Add start and end dates to our first dataset\n",
    "sinclair_station_df$Year.Start <- sinclair_station_df$Year\n",
    "sinclair_station_df$Year.End <- NA\n",
    "\n",
    "# Concatenate the datasets\n",
    "sinclair_station_all_df <- rbind(sinclair_station_df, sinclair_station_prev_df)"
   ]
  },
  {
   "cell_type": "code",
   "execution_count": 21,
   "metadata": {},
   "outputs": [
    {
     "data": {
      "text/html": [
       "<table>\n",
       "<thead><tr><th scope=col>Market</th><th scope=col>Station</th><th scope=col>Channel.RF.</th><th scope=col>Year</th><th scope=col>Power.kW</th><th scope=col>Location</th><th scope=col>Latitude</th><th scope=col>Longitude</th><th scope=col>Year.Start</th><th scope=col>Year.End</th></tr></thead>\n",
       "<tbody>\n",
       "\t<tr><td>Birmingham - Tuscaloosa - Anniston, AL</td><td>WTTO                                  </td><td>21 (28)                               </td><td>1995                                  </td><td> 765                                  </td><td>33.484583; -86.807083                 </td><td>33.48458                              </td><td>-86.80708                             </td><td>1995                                  </td><td>NA                                    </td></tr>\n",
       "\t<tr><td>Birmingham - Tuscaloosa - Anniston, AL</td><td>WABM                                  </td><td>68 (36)                               </td><td>2001                                  </td><td> 885                                  </td><td>33.484583; -86.807056                 </td><td>33.48458                              </td><td>-86.80706                             </td><td>2001                                  </td><td>NA                                    </td></tr>\n",
       "\t<tr><td>Birmingham - Tuscaloosa - Anniston, AL</td><td>WDBB                                  </td><td>17 (18)                               </td><td>1995                                  </td><td>  NA                                  </td><td>                                      </td><td>      NA                              </td><td>       NA                             </td><td>1995                                  </td><td>NA                                    </td></tr>\n",
       "\t<tr><td>Birmingham - Tuscaloosa - Anniston, AL</td><td>WBMA-LD                               </td><td>58 (40)                               </td><td>2014                                  </td><td> 885                                  </td><td>33.484583; -86.807056                 </td><td>33.48458                              </td><td>-86.80706                             </td><td>2014                                  </td><td>NA                                    </td></tr>\n",
       "\t<tr><td><span style=white-space:pre-wrap>Mobile, AL &amp; Pensacola, FL            </span></td><td>WEAR-TV                                                                           </td><td>3 (17)                                                                            </td><td>1997                                                                              </td><td>1000                                                                              </td><td>30.612611; -87.644889                                                             </td><td>30.61261                                                                          </td><td>-87.64489                                                                         </td><td>1997                                                                              </td><td>NA                                                                                </td></tr>\n",
       "\t<tr><td><span style=white-space:pre-wrap>Mobile, AL &amp; Pensacola, FL            </span></td><td>WPMI-TV                                                                           </td><td>15 (15)                                                                           </td><td>2012                                                                              </td><td>1000                                                                              </td><td>30.61139; -87.607333                                                              </td><td>30.61139                                                                          </td><td>-87.60733                                                                         </td><td>2012                                                                              </td><td>NA                                                                                </td></tr>\n",
       "</tbody>\n",
       "</table>\n"
      ],
      "text/latex": [
       "\\begin{tabular}{r|llllllllll}\n",
       " Market & Station & Channel.RF. & Year & Power.kW & Location & Latitude & Longitude & Year.Start & Year.End\\\\\n",
       "\\hline\n",
       "\t Birmingham - Tuscaloosa - Anniston, AL & WTTO                                   & 21 (28)                                & 1995                                   &  765                                   & 33.484583; -86.807083                  & 33.48458                               & -86.80708                              & 1995                                   & NA                                    \\\\\n",
       "\t Birmingham - Tuscaloosa - Anniston, AL & WABM                                   & 68 (36)                                & 2001                                   &  885                                   & 33.484583; -86.807056                  & 33.48458                               & -86.80706                              & 2001                                   & NA                                    \\\\\n",
       "\t Birmingham - Tuscaloosa - Anniston, AL & WDBB                                   & 17 (18)                                & 1995                                   &   NA                                   &                                        &       NA                               &        NA                              & 1995                                   & NA                                    \\\\\n",
       "\t Birmingham - Tuscaloosa - Anniston, AL & WBMA-LD                                & 58 (40)                                & 2014                                   &  885                                   & 33.484583; -86.807056                  & 33.48458                               & -86.80706                              & 2014                                   & NA                                    \\\\\n",
       "\t Mobile, AL \\& Pensacola, FL             & WEAR-TV                                  & 3 (17)                                   & 1997                                     & 1000                                     & 30.612611; -87.644889                    & 30.61261                                 & -87.64489                                & 1997                                     & NA                                      \\\\\n",
       "\t Mobile, AL \\& Pensacola, FL             & WPMI-TV                                  & 15 (15)                                  & 2012                                     & 1000                                     & 30.61139; -87.607333                     & 30.61139                                 & -87.60733                                & 2012                                     & NA                                      \\\\\n",
       "\\end{tabular}\n"
      ],
      "text/markdown": [
       "\n",
       "Market | Station | Channel.RF. | Year | Power.kW | Location | Latitude | Longitude | Year.Start | Year.End | \n",
       "|---|---|---|---|---|---|\n",
       "| Birmingham - Tuscaloosa - Anniston, AL | WTTO                                   | 21 (28)                                | 1995                                   |  765                                   | 33.484583; -86.807083                  | 33.48458                               | -86.80708                              | 1995                                   | NA                                     | \n",
       "| Birmingham - Tuscaloosa - Anniston, AL | WABM                                   | 68 (36)                                | 2001                                   |  885                                   | 33.484583; -86.807056                  | 33.48458                               | -86.80706                              | 2001                                   | NA                                     | \n",
       "| Birmingham - Tuscaloosa - Anniston, AL | WDBB                                   | 17 (18)                                | 1995                                   |   NA                                   |                                        |       NA                               |        NA                              | 1995                                   | NA                                     | \n",
       "| Birmingham - Tuscaloosa - Anniston, AL | WBMA-LD                                | 58 (40)                                | 2014                                   |  885                                   | 33.484583; -86.807056                  | 33.48458                               | -86.80706                              | 2014                                   | NA                                     | \n",
       "| Mobile, AL & Pensacola, FL             | WEAR-TV                                | 3 (17)                                 | 1997                                   | 1000                                   | 30.612611; -87.644889                  | 30.61261                               | -87.64489                              | 1997                                   | NA                                     | \n",
       "| Mobile, AL & Pensacola, FL             | WPMI-TV                                | 15 (15)                                | 2012                                   | 1000                                   | 30.61139; -87.607333                   | 30.61139                               | -87.60733                              | 2012                                   | NA                                     | \n",
       "\n",
       "\n"
      ],
      "text/plain": [
       "  Market                                 Station Channel.RF. Year Power.kW\n",
       "1 Birmingham - Tuscaloosa - Anniston, AL WTTO    21 (28)     1995  765    \n",
       "2 Birmingham - Tuscaloosa - Anniston, AL WABM    68 (36)     2001  885    \n",
       "3 Birmingham - Tuscaloosa - Anniston, AL WDBB    17 (18)     1995   NA    \n",
       "4 Birmingham - Tuscaloosa - Anniston, AL WBMA-LD 58 (40)     2014  885    \n",
       "5 Mobile, AL & Pensacola, FL             WEAR-TV 3 (17)      1997 1000    \n",
       "6 Mobile, AL & Pensacola, FL             WPMI-TV 15 (15)     2012 1000    \n",
       "  Location              Latitude Longitude Year.Start Year.End\n",
       "1 33.484583; -86.807083 33.48458 -86.80708 1995       NA      \n",
       "2 33.484583; -86.807056 33.48458 -86.80706 2001       NA      \n",
       "3                             NA        NA 1995       NA      \n",
       "4 33.484583; -86.807056 33.48458 -86.80706 2014       NA      \n",
       "5 30.612611; -87.644889 30.61261 -87.64489 1997       NA      \n",
       "6 30.61139; -87.607333  30.61139 -87.60733 2012       NA      "
      ]
     },
     "metadata": {},
     "output_type": "display_data"
    }
   ],
   "source": [
    "head(sinclair_station_all_df)"
   ]
  },
  {
   "cell_type": "markdown",
   "metadata": {},
   "source": [
    "As a sanity check, make sure that all of the columns in our data have the expected types."
   ]
  },
  {
   "cell_type": "code",
   "execution_count": 22,
   "metadata": {
    "scrolled": true
   },
   "outputs": [
    {
     "data": {
      "text/html": [
       "<dl class=dl-horizontal>\n",
       "\t<dt>Market</dt>\n",
       "\t\t<dd>'character'</dd>\n",
       "\t<dt>Station</dt>\n",
       "\t\t<dd>'character'</dd>\n",
       "\t<dt>Channel.RF.</dt>\n",
       "\t\t<dd>'character'</dd>\n",
       "\t<dt>Year</dt>\n",
       "\t\t<dd>'character'</dd>\n",
       "\t<dt>Power.kW</dt>\n",
       "\t\t<dd>'numeric'</dd>\n",
       "\t<dt>Location</dt>\n",
       "\t\t<dd>'character'</dd>\n",
       "\t<dt>Latitude</dt>\n",
       "\t\t<dd>'numeric'</dd>\n",
       "\t<dt>Longitude</dt>\n",
       "\t\t<dd>'numeric'</dd>\n",
       "\t<dt>Year.Start</dt>\n",
       "\t\t<dd>'numeric'</dd>\n",
       "\t<dt>Year.End</dt>\n",
       "\t\t<dd>'numeric'</dd>\n",
       "</dl>\n"
      ],
      "text/latex": [
       "\\begin{description*}\n",
       "\\item[Market] 'character'\n",
       "\\item[Station] 'character'\n",
       "\\item[Channel.RF.] 'character'\n",
       "\\item[Year] 'character'\n",
       "\\item[Power.kW] 'numeric'\n",
       "\\item[Location] 'character'\n",
       "\\item[Latitude] 'numeric'\n",
       "\\item[Longitude] 'numeric'\n",
       "\\item[Year.Start] 'numeric'\n",
       "\\item[Year.End] 'numeric'\n",
       "\\end{description*}\n"
      ],
      "text/markdown": [
       "Market\n",
       ":   'character'Station\n",
       ":   'character'Channel.RF.\n",
       ":   'character'Year\n",
       ":   'character'Power.kW\n",
       ":   'numeric'Location\n",
       ":   'character'Latitude\n",
       ":   'numeric'Longitude\n",
       ":   'numeric'Year.Start\n",
       ":   'numeric'Year.End\n",
       ":   'numeric'\n",
       "\n"
      ],
      "text/plain": [
       "     Market     Station Channel.RF.        Year    Power.kW    Location \n",
       "\"character\" \"character\" \"character\" \"character\"   \"numeric\" \"character\" \n",
       "   Latitude   Longitude  Year.Start    Year.End \n",
       "  \"numeric\"   \"numeric\"   \"numeric\"   \"numeric\" "
      ]
     },
     "metadata": {},
     "output_type": "display_data"
    }
   ],
   "source": [
    "sapply(sinclair_station_all_df, class)"
   ]
  },
  {
   "cell_type": "markdown",
   "metadata": {},
   "source": [
    "Looks good. We'll be using `Latitude`, `Longitude`, `Year.Start`, `Year.End`, and `Power.kW` in our plots so its important that these columns are numeric.\n",
    "\n",
    "Of course, we don't want all our hard work to go to waste so we'll also save the merged dataframe into a csv file."
   ]
  },
  {
   "cell_type": "code",
   "execution_count": 23,
   "metadata": {
    "collapsed": true
   },
   "outputs": [],
   "source": [
    "sinclair_station_all_path <- \"sinclair_station_all.csv\"\n",
    "write.csv(sinclair_station_all_df, file = sinclair_station_all_path, row.names = FALSE)"
   ]
  },
  {
   "cell_type": "markdown",
   "metadata": {},
   "source": [
    "Now, lets get to graphing!"
   ]
  },
  {
   "cell_type": "markdown",
   "metadata": {},
   "source": [
    "## Graph and Analyze"
   ]
  },
  {
   "cell_type": "markdown",
   "metadata": {},
   "source": [
    "We have two questions that we want to answer in this notebook:\n",
    "\n",
    "1. How has the number of stations owned/operated by Sinclair changed over time?\n",
    "2. How does the spread of stations look like spatially, from the viewpoint of the US as a whole?"
   ]
  },
  {
   "cell_type": "markdown",
   "metadata": {},
   "source": [
    "### Stations vs Time\n",
    "\n",
    "Unsurprisingly, we'll tackle question number one first.\n",
    "\n",
    "Since we've already done the hard part of getting a coherent dataframe together, this will be pretty easy to do. We'll just look at every year between the minimum and maximum years in our dataset; for each of these years we'll count up all stations owned by Sinclair and substract the stations that they've sold off. Finally, we'll take this data and present it in a tidy line graph.\n",
    "\n",
    "The code below generates the data we want:"
   ]
  },
  {
   "cell_type": "code",
   "execution_count": 24,
   "metadata": {
    "collapsed": true
   },
   "outputs": [],
   "source": [
    "# Get temporal limits of the data\n",
    "max_year <- max(sinclair_station_all_df$Year.Start, na.rm = TRUE)\n",
    "min_year <- min(sinclair_station_all_df$Year.Start, na.rm = TRUE)\n",
    "\n",
    "# Get rid of data that has missing year values\n",
    "no_na_year_df <- sinclair_station_all_df %>% filter(!is.na(Year.Start))\n",
    "\n",
    "# Create aliases for the two year columns\n",
    "start_year <- no_na_year_df$Year.Start\n",
    "end_year <- no_na_year_df$Year.End\n",
    "\n",
    "# Make a new data.frame and fill it using a for-loop\n",
    "# This is a slow way to do it but our dataset is not huge \n",
    "station_count_df <- data.frame()\n",
    "for(year in min_year:max_year) {\n",
    "    # Generate the station count\n",
    "    # Remember to take care of possible NA values in `end_year`\n",
    "    new_row <- c(year, sum(start_year <= year & (end_year >= year | is.na(end_year))) )\n",
    "    station_count_df <- rbind(station_count_df, new_row)\n",
    "}\n",
    "colnames(station_count_df) <- c(\"Year\", \"Station.Count\")"
   ]
  },
  {
   "cell_type": "markdown",
   "metadata": {},
   "source": [
    "Here's a random unordered sample of years just to see what the output looks like."
   ]
  },
  {
   "cell_type": "code",
   "execution_count": 25,
   "metadata": {},
   "outputs": [
    {
     "data": {
      "text/html": [
       "<table>\n",
       "<thead><tr><th></th><th scope=col>Year</th><th scope=col>Station.Count</th></tr></thead>\n",
       "<tbody>\n",
       "\t<tr><th scope=row>14</th><td>1984</td><td>  2 </td></tr>\n",
       "\t<tr><th scope=row>25</th><td>1995</td><td> 16 </td></tr>\n",
       "\t<tr><th scope=row>30</th><td>2000</td><td> 52 </td></tr>\n",
       "\t<tr><th scope=row>37</th><td>2007</td><td> 55 </td></tr>\n",
       "\t<tr><th scope=row>45</th><td>2015</td><td>149 </td></tr>\n",
       "</tbody>\n",
       "</table>\n"
      ],
      "text/latex": [
       "\\begin{tabular}{r|ll}\n",
       "  & Year & Station.Count\\\\\n",
       "\\hline\n",
       "\t14 & 1984 &   2 \\\\\n",
       "\t25 & 1995 &  16 \\\\\n",
       "\t30 & 2000 &  52 \\\\\n",
       "\t37 & 2007 &  55 \\\\\n",
       "\t45 & 2015 & 149 \\\\\n",
       "\\end{tabular}\n"
      ],
      "text/markdown": [
       "\n",
       "| <!--/--> | Year | Station.Count | \n",
       "|---|---|---|---|---|\n",
       "| 14 | 1984 |   2  | \n",
       "| 25 | 1995 |  16  | \n",
       "| 30 | 2000 |  52  | \n",
       "| 37 | 2007 |  55  | \n",
       "| 45 | 2015 | 149  | \n",
       "\n",
       "\n"
      ],
      "text/plain": [
       "   Year Station.Count\n",
       "14 1984   2          \n",
       "25 1995  16          \n",
       "30 2000  52          \n",
       "37 2007  55          \n",
       "45 2015 149          "
      ]
     },
     "metadata": {},
     "output_type": "display_data"
    }
   ],
   "source": [
    "station_count_df[sample(1:nrow(station_count_df), 5),]"
   ]
  },
  {
   "cell_type": "markdown",
   "metadata": {},
   "source": [
    "Now, we use my favorite plotting library (`ggplot2` in case you were wondering) to visualize this data."
   ]
  },
  {
   "cell_type": "code",
   "execution_count": 26,
   "metadata": {
    "collapsed": true
   },
   "outputs": [],
   "source": [
    "# Set the size of output graphics\n",
    "library(repr)\n",
    "options(repr.plot.width=8, repr.plot.height=5)"
   ]
  },
  {
   "cell_type": "code",
   "execution_count": 27,
   "metadata": {
    "scrolled": false
   },
   "outputs": [
    {
     "data": {},
     "metadata": {},
     "output_type": "display_data"
    },
    {
     "data": {
      "image/png": "[encoded data removed]",
      "text/plain": [
       "plot without title"
      ]
     },
     "metadata": {},
     "output_type": "display_data"
    }
   ],
   "source": [
    "# Create the plot\n",
    "sinclair_growth_plot <- ggplot(data = station_count_df) +\n",
    "    geom_line(aes(x = Year, y = Station.Count), color = brewer.pal(3, \"Set2\")[2]) + \n",
    "    ggtitle(\"Sinclair Growth\") + \n",
    "    theme(plot.title = element_text(color=\"#666666\", face=\"bold\", size=20))\n",
    "\n",
    "sinclair_growth_plot"
   ]
  },
  {
   "cell_type": "markdown",
   "metadata": {},
   "source": [
    "Yup, that's a healthy looking business! We can see that their real growth started during the mid 1990s (a few small acquisitions), dropped a little bit in the late 2000s (not really good times for anyone), but skyrocketed after late 2011-2012.\n",
    "\n",
    "We can also see from the chart that the maximum number of station owned is currently at an all time high. What exactly is this number?"
   ]
  },
  {
   "cell_type": "code",
   "execution_count": 28,
   "metadata": {},
   "outputs": [
    {
     "data": {
      "text/html": [
       "174"
      ],
      "text/latex": [
       "174"
      ],
      "text/markdown": [
       "174"
      ],
      "text/plain": [
       "[1] 174"
      ]
     },
     "metadata": {},
     "output_type": "display_data"
    }
   ],
   "source": [
    "max(station_count_df$Station.Count)"
   ]
  },
  {
   "cell_type": "markdown",
   "metadata": {},
   "source": [
    "So, starting from just a single tower, Sinclair has done well for itself! As of 2017 they've grown to own or operate 174 stations."
   ]
  },
  {
   "cell_type": "markdown",
   "metadata": {},
   "source": [
    "### Stations vs USA\n",
    "\n",
    "Now that we've had a good idea of how fast the Sinclair Group has grown, we need to answer question number two and take a look at *where* in the US that growth has occured.\n",
    "\n",
    "To do this, we'll once again use `ggplot2`. To anyone with a background in GIS (Geographic Information Systems), they might find it useful to know that I'll be using the Albers projection optimized for viewing the USA (`lat0 = 37.5, lat1 = 29.5`).\n",
    "\n",
    "After creating a simple plot of the USA, I'll use the layers feature of `ggplot2` to layer stations on top. The size of each station marker will correspond to the `Power` of that station. I decided that the best way to visualize the spread of Sinclair stations is by looking at \"snapshots\" of stations during every year. This means that I'll creat a different map for every year in the dataset and plot the stations owned during that year.\n",
    "\n",
    "Onto the code! Before getting to `ggplot2` we'll have to filter out any missing data from `sinclair_station_all_df` and get the spatial coordinates for drawing a map of the USA."
   ]
  },
  {
   "cell_type": "code",
   "execution_count": 29,
   "metadata": {
    "collapsed": true
   },
   "outputs": [],
   "source": [
    "# Get USA spatial data\n",
    "usa_map_df <- map_data(\"usa\")     # Tells ggplot2 how to plot outline of the US\n",
    "state_map_df <- map_data(\"state\") # Tells ggplot2 how to plot outlines of each US state\n",
    "\n",
    "# Extract only that station data that we'll need for plotting\n",
    "sinclair_final_df <- sinclair_station_all_df[c(\"Station\", \"Power.kW\", \"Latitude\",\n",
    "                                                 \"Longitude\", \"Year.Start\", \"Year.End\")]\n",
    "\n",
    "# Get rid of rows that don't have the necessary data\n",
    "has_location <- !is.na(sinclair_final_df$Latitude) & !is.na(sinclair_final_df$Longitude)\n",
    "has_power <- !is.na(sinclair_final_df$Power)\n",
    "has_start <- !is.na(sinclair_final_df$Year.Start)\n",
    "sinclair_final_df <- sinclair_final_df[has_location & has_power & has_start,]"
   ]
  },
  {
   "cell_type": "code",
   "execution_count": 30,
   "metadata": {},
   "outputs": [
    {
     "data": {
      "text/html": [
       "<table>\n",
       "<thead><tr><th></th><th scope=col>Station</th><th scope=col>Power.kW</th><th scope=col>Latitude</th><th scope=col>Longitude</th><th scope=col>Year.Start</th><th scope=col>Year.End</th></tr></thead>\n",
       "<tbody>\n",
       "\t<tr><th scope=row>1</th><td>WTTO     </td><td> 765     </td><td>33.48458 </td><td>-86.80708</td><td>1995     </td><td>NA       </td></tr>\n",
       "\t<tr><th scope=row>2</th><td>WABM     </td><td> 885     </td><td>33.48458 </td><td>-86.80706</td><td>2001     </td><td>NA       </td></tr>\n",
       "\t<tr><th scope=row>4</th><td>WBMA-LD  </td><td> 885     </td><td>33.48458 </td><td>-86.80706</td><td>2014     </td><td>NA       </td></tr>\n",
       "\t<tr><th scope=row>5</th><td>WEAR-TV  </td><td>1000     </td><td>30.61261 </td><td>-87.64489</td><td>1997     </td><td>NA       </td></tr>\n",
       "\t<tr><th scope=row>6</th><td>WPMI-TV  </td><td>1000     </td><td>30.61139 </td><td>-87.60733</td><td>2012     </td><td>NA       </td></tr>\n",
       "\t<tr><th scope=row>7</th><td>WFGX     </td><td>1000     </td><td>30.61261 </td><td>-87.64489</td><td>2001     </td><td>NA       </td></tr>\n",
       "</tbody>\n",
       "</table>\n"
      ],
      "text/latex": [
       "\\begin{tabular}{r|llllll}\n",
       "  & Station & Power.kW & Latitude & Longitude & Year.Start & Year.End\\\\\n",
       "\\hline\n",
       "\t1 & WTTO      &  765      & 33.48458  & -86.80708 & 1995      & NA       \\\\\n",
       "\t2 & WABM      &  885      & 33.48458  & -86.80706 & 2001      & NA       \\\\\n",
       "\t4 & WBMA-LD   &  885      & 33.48458  & -86.80706 & 2014      & NA       \\\\\n",
       "\t5 & WEAR-TV   & 1000      & 30.61261  & -87.64489 & 1997      & NA       \\\\\n",
       "\t6 & WPMI-TV   & 1000      & 30.61139  & -87.60733 & 2012      & NA       \\\\\n",
       "\t7 & WFGX      & 1000      & 30.61261  & -87.64489 & 2001      & NA       \\\\\n",
       "\\end{tabular}\n"
      ],
      "text/markdown": [
       "\n",
       "| <!--/--> | Station | Power.kW | Latitude | Longitude | Year.Start | Year.End | \n",
       "|---|---|---|---|---|---|\n",
       "| 1 | WTTO      |  765      | 33.48458  | -86.80708 | 1995      | NA        | \n",
       "| 2 | WABM      |  885      | 33.48458  | -86.80706 | 2001      | NA        | \n",
       "| 4 | WBMA-LD   |  885      | 33.48458  | -86.80706 | 2014      | NA        | \n",
       "| 5 | WEAR-TV   | 1000      | 30.61261  | -87.64489 | 1997      | NA        | \n",
       "| 6 | WPMI-TV   | 1000      | 30.61139  | -87.60733 | 2012      | NA        | \n",
       "| 7 | WFGX      | 1000      | 30.61261  | -87.64489 | 2001      | NA        | \n",
       "\n",
       "\n"
      ],
      "text/plain": [
       "  Station Power.kW Latitude Longitude Year.Start Year.End\n",
       "1 WTTO     765     33.48458 -86.80708 1995       NA      \n",
       "2 WABM     885     33.48458 -86.80706 2001       NA      \n",
       "4 WBMA-LD  885     33.48458 -86.80706 2014       NA      \n",
       "5 WEAR-TV 1000     30.61261 -87.64489 1997       NA      \n",
       "6 WPMI-TV 1000     30.61139 -87.60733 2012       NA      \n",
       "7 WFGX    1000     30.61261 -87.64489 2001       NA      "
      ]
     },
     "metadata": {},
     "output_type": "display_data"
    }
   ],
   "source": [
    "head(sinclair_final_df)"
   ]
  },
  {
   "cell_type": "markdown",
   "metadata": {},
   "source": [
    "Since I'll be plotting the stations owned by Sinclair for every year in the dataset, it would be best to put all of the necessary code into one function that takes the `year` as its only argument. This function will separate the data in `sinclair_final_df` by the given `year` variable and label it appropriately. It will then filter out the stations not currently owned and graph the ones that are on top of a map of the US. The code is quite involved, but I hope the comments make it easy to read."
   ]
  },
  {
   "cell_type": "code",
   "execution_count": 31,
   "metadata": {
    "collapsed": true
   },
   "outputs": [],
   "source": [
    "plot_sinclair_stations <- function(year) {\n",
    "    \n",
    "    # Separate the spatial data into four datasets\n",
    "    final_spatial_df <- sinclair_final_df %>%\n",
    "        mutate(Acquired = case_when(\n",
    "            (Year.Start < year) & (Year.End > year | is.na(Year.End)) ~ \"acquired\\nprevious years\",\n",
    "            Year.Start == year ~ \"acquired\\nthis year\",\n",
    "            Year.End == year ~ \"sold\\nthis year\",\n",
    "            TRUE ~ \"not held\")\n",
    "        )\n",
    "    \n",
    "    # We don't want to show the station that were not held during the given year\n",
    "    # Filter out unwanted stations using a mask\n",
    "    held_mask <- final_spatial_df$Acquired != \"not held\"\n",
    "    final_spatial_df <- final_spatial_df[held_mask, ]\n",
    "    factor_levels <- c(\"acquired\\nprevious years\", \"acquired\\nthis year\", \"sold\\nthis year\")\n",
    "    final_spatial_df$Acquired <- factor(final_spatial_df$Acquired, levels = factor_levels)\n",
    "\n",
    "    # Pick some nice colors\n",
    "    nice_colors <- brewer.pal(3, \"Set2\")\n",
    "    \n",
    "    # Make the plot\n",
    "    ggplot() +\n",
    "        # Set the projection to USA-Albers\n",
    "        coord_map(\"albers\", lat0 = 37.5, lat1 = 29.5) + \n",
    "        # Graph the outline of the US\n",
    "        geom_polygon(data = usa_map_df,\n",
    "                     aes(x = long, y = lat, group = group),\n",
    "                     color = \"gray60\") +\n",
    "        # Graph the outline of each state\n",
    "        geom_polygon(data = state_map_df,\n",
    "                     aes(x = long, y = lat, group = group),\n",
    "                     color = \"gray60\") +\n",
    "        # Graph the location of each station\n",
    "        geom_point(data = final_spatial_df,\n",
    "                   aes(x = Longitude, y = Latitude, size = Power.kW, color = Acquired),\n",
    "                   alpha = 0.75) +\n",
    "        # Set size/radius and color of the station markers\n",
    "        scale_radius(limits = c(0, 1000)) +\n",
    "        scale_color_manual(values = nice_colors, drop = FALSE) +\n",
    "        # Set the title, colors, legend position and other thematic options\n",
    "        theme(plot.title = element_text(hjust = 0.1, color=\"#666666\", face=\"bold\", size=20), \n",
    "            axis.text = element_blank(), \n",
    "            axis.line = element_blank(), \n",
    "            axis.ticks = element_blank(),\n",
    "            axis.title = element_blank(),\n",
    "            panel.border = element_blank(),\n",
    "            legend.position = c(0.93, 0.5),\n",
    "            legend.key.size = unit(1, \"cm\"),\n",
    "            legend.text = element_text(size=12),\n",
    "            legend.title = element_text(size=12),\n",
    "            panel.grid = element_blank(),\n",
    "            panel.background = element_blank()) +\n",
    "        guides(size=guide_legend(title=\"Transmitter\\nPower (kW)\"), byrow = TRUE) +\n",
    "        ggtitle(paste(\"Sinclair Stations in\", year))\n",
    "}"
   ]
  },
  {
   "cell_type": "markdown",
   "metadata": {},
   "source": [
    "Phew! Now to test out our function. I know from looking at the data that there was a lot of action during the year 2013. Lets use this year as our test date."
   ]
  },
  {
   "cell_type": "code",
   "execution_count": 32,
   "metadata": {},
   "outputs": [
    {
     "data": {},
     "metadata": {},
     "output_type": "display_data"
    },
    {
     "data": {
      "image/png": "[encoded data removed]",
      "text/plain": [
       "plot without title"
      ]
     },
     "metadata": {},
     "output_type": "display_data"
    }
   ],
   "source": [
    "plot_sinclair_stations(2013)"
   ]
  },
  {
   "cell_type": "markdown",
   "metadata": {},
   "source": [
    "Hey, not bad! In case you're wondering why the legend is so large, that was done on purpose. It might look wonky in this JUPYTER notebook, but this legend size looks perfect (in my opinion) when each image is saved as a png.\n",
    "\n",
    "Speaking of which, we're almost done! The last bit of code we need for this exploration is to loop through every year and create an image like the one above. I'll stitch the images together into one gif so that we can observe how Sinclair stations have spread from the east coast to the west throughout the last several years."
   ]
  },
  {
   "cell_type": "code",
   "execution_count": 33,
   "metadata": {
    "collapsed": true
   },
   "outputs": [],
   "source": [
    "max_year <- max(sinclair_final_df$Year.Start, na.rm = TRUE)\n",
    "min_year <- min(sinclair_final_df$Year.Start, na.rm = TRUE)\n",
    "\n",
    "IMAGE_OUTPUT_PATH <- \"Images\"\n",
    "\n",
    "for(year in min_year:max_year) {\n",
    "    image <- plot_sinclair_stations(year)\n",
    "    image.name <- paste(\"Sinclair_Stations\", year, sep = \"_\")\n",
    "    image.name <- paste(image.name, \".png\", sep = \"\")\n",
    "    ggsave(filename = image.name, \n",
    "        plot = image,\n",
    "        path = IMAGE_OUTPUT_PATH,\n",
    "        width = unit(14, \"cm\"),\n",
    "        height = unit(10, \"cm\"))\n",
    "}"
   ]
  },
  {
   "cell_type": "markdown",
   "metadata": {},
   "source": [
    "DONE!"
   ]
  }
 ],
 "metadata": {
  "kernelspec": {
   "display_name": "R",
   "language": "R",
   "name": "ir"
  },
  "language_info": {
   "codemirror_mode": "r",
   "file_extension": ".r",
   "mimetype": "text/x-r-source",
   "name": "R",
   "pygments_lexer": "r",
   "version": "3.4.1"
  }
 },
 "nbformat": 4,
 "nbformat_minor": 2
}
