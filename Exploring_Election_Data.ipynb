{
 "cells": [
  {
   "cell_type": "code",
   "execution_count": 1,
   "metadata": {},
   "outputs": [],
   "source": [
    "# Load up some libraries\n",
    "library(dplyr, warn.conflicts = FALSE)\n",
    "library(ggplot2)\n",
    "library(maps)\n",
    "library(mapdata)"
   ]
  },
  {
   "cell_type": "code",
   "execution_count": 2,
   "metadata": {
    "collapsed": true
   },
   "outputs": [],
   "source": [
    "population_data_path_1 <- \"county_population_1900_to_1990.csv\" # County population data from 1900 to 1990\n",
    "pop_data_1_df <- read.csv(file = population_data_path_1)\n",
    "pop_data_1_df <- pop_data_1_df %>% filter(!grepl(\"\\\\d*000\", fips)) # Get rid of state-wide data\n",
    "pop_data_1_df <- pop_data_1_df[-1, ] # Get rid of nation-wide data\n",
    "pop_data_1_df <- pop_data_1_df %>% select(-name)"
   ]
  },
  {
   "cell_type": "code",
   "execution_count": 3,
   "metadata": {},
   "outputs": [
    {
     "data": {
      "text/html": [
       "<table>\n",
       "<thead><tr><th></th><th scope=col>pop1900</th><th scope=col>pop1910</th><th scope=col>pop1920</th><th scope=col>pop1930</th><th scope=col>pop1940</th><th scope=col>pop1950</th><th scope=col>pop1960</th><th scope=col>pop1970</th><th scope=col>pop1980</th><th scope=col>pop1990</th><th scope=col>fips</th></tr></thead>\n",
       "<tbody>\n",
       "\t<tr><th scope=row>2</th><td>17915</td><td>20038</td><td>18908</td><td>19694</td><td>20977</td><td>18186</td><td>18739</td><td>24460</td><td>32259</td><td>34222</td><td>1001 </td></tr>\n",
       "\t<tr><th scope=row>3</th><td>13194</td><td>18178</td><td>20730</td><td>28289</td><td>32324</td><td>40997</td><td>49088</td><td>59382</td><td>78556</td><td>98280</td><td>1003 </td></tr>\n",
       "\t<tr><th scope=row>4</th><td>35152</td><td>32728</td><td>32067</td><td>32425</td><td>32722</td><td>28892</td><td>24700</td><td>22543</td><td>24756</td><td>25417</td><td>1005 </td></tr>\n",
       "\t<tr><th scope=row>5</th><td>18498</td><td>22791</td><td>23144</td><td>20780</td><td>20155</td><td>17987</td><td>14357</td><td>13812</td><td>15723</td><td>16576</td><td>1007 </td></tr>\n",
       "\t<tr><th scope=row>6</th><td>23119</td><td>21456</td><td>25538</td><td>28020</td><td>29490</td><td>28975</td><td>25449</td><td>26853</td><td>36459</td><td>39248</td><td>1009 </td></tr>\n",
       "\t<tr><th scope=row>7</th><td>31944</td><td>30196</td><td>25333</td><td>20016</td><td>19810</td><td>16054</td><td>13462</td><td>11824</td><td>10596</td><td>11042</td><td>1011 </td></tr>\n",
       "</tbody>\n",
       "</table>\n"
      ],
      "text/latex": [
       "\\begin{tabular}{r|lllllllllll}\n",
       "  & pop1900 & pop1910 & pop1920 & pop1930 & pop1940 & pop1950 & pop1960 & pop1970 & pop1980 & pop1990 & fips\\\\\n",
       "\\hline\n",
       "\t2 & 17915 & 20038 & 18908 & 19694 & 20977 & 18186 & 18739 & 24460 & 32259 & 34222 & 1001 \\\\\n",
       "\t3 & 13194 & 18178 & 20730 & 28289 & 32324 & 40997 & 49088 & 59382 & 78556 & 98280 & 1003 \\\\\n",
       "\t4 & 35152 & 32728 & 32067 & 32425 & 32722 & 28892 & 24700 & 22543 & 24756 & 25417 & 1005 \\\\\n",
       "\t5 & 18498 & 22791 & 23144 & 20780 & 20155 & 17987 & 14357 & 13812 & 15723 & 16576 & 1007 \\\\\n",
       "\t6 & 23119 & 21456 & 25538 & 28020 & 29490 & 28975 & 25449 & 26853 & 36459 & 39248 & 1009 \\\\\n",
       "\t7 & 31944 & 30196 & 25333 & 20016 & 19810 & 16054 & 13462 & 11824 & 10596 & 11042 & 1011 \\\\\n",
       "\\end{tabular}\n"
      ],
      "text/markdown": [
       "\n",
       "| <!--/--> | pop1900 | pop1910 | pop1920 | pop1930 | pop1940 | pop1950 | pop1960 | pop1970 | pop1980 | pop1990 | fips | \n",
       "|---|---|---|---|---|---|\n",
       "| 2 | 17915 | 20038 | 18908 | 19694 | 20977 | 18186 | 18739 | 24460 | 32259 | 34222 | 1001  | \n",
       "| 3 | 13194 | 18178 | 20730 | 28289 | 32324 | 40997 | 49088 | 59382 | 78556 | 98280 | 1003  | \n",
       "| 4 | 35152 | 32728 | 32067 | 32425 | 32722 | 28892 | 24700 | 22543 | 24756 | 25417 | 1005  | \n",
       "| 5 | 18498 | 22791 | 23144 | 20780 | 20155 | 17987 | 14357 | 13812 | 15723 | 16576 | 1007  | \n",
       "| 6 | 23119 | 21456 | 25538 | 28020 | 29490 | 28975 | 25449 | 26853 | 36459 | 39248 | 1009  | \n",
       "| 7 | 31944 | 30196 | 25333 | 20016 | 19810 | 16054 | 13462 | 11824 | 10596 | 11042 | 1011  | \n",
       "\n",
       "\n"
      ],
      "text/plain": [
       "  pop1900 pop1910 pop1920 pop1930 pop1940 pop1950 pop1960 pop1970 pop1980\n",
       "2 17915   20038   18908   19694   20977   18186   18739   24460   32259  \n",
       "3 13194   18178   20730   28289   32324   40997   49088   59382   78556  \n",
       "4 35152   32728   32067   32425   32722   28892   24700   22543   24756  \n",
       "5 18498   22791   23144   20780   20155   17987   14357   13812   15723  \n",
       "6 23119   21456   25538   28020   29490   28975   25449   26853   36459  \n",
       "7 31944   30196   25333   20016   19810   16054   13462   11824   10596  \n",
       "  pop1990 fips\n",
       "2 34222   1001\n",
       "3 98280   1003\n",
       "4 25417   1005\n",
       "5 16576   1007\n",
       "6 39248   1009\n",
       "7 11042   1011"
      ]
     },
     "metadata": {},
     "output_type": "display_data"
    }
   ],
   "source": [
    "head(pop_data_1_df)"
   ]
  },
  {
   "cell_type": "code",
   "execution_count": 4,
   "metadata": {
    "collapsed": true
   },
   "outputs": [],
   "source": [
    "population_data_path_2 <- \"county_population_1970_to_2010.csv\" # County population data from 1970 to 2010\n",
    "pop_data_2_df <- read.csv(file = population_data_path_2)\n",
    "pop_data_2_df <- pop_data_2_df %>% \n",
    "    filter(!grepl(\"\\\\d*000\", fips)) %>% \n",
    "    filter(fips != county_fips)\n",
    "pop_data_2_df <- pop_data_2_df[-1, ] # Get rid of nation-wide data\n",
    "pop_data_2_df <- pop_data_2_df %>% \n",
    "    select(grep(\"^fips$|^pop\\\\d{4}$\", names(pop_data_2_df))) %>%\n",
    "    select(-pop2010, -pop2011, -pop2012, -pop2013, -pop2014)"
   ]
  },
  {
   "cell_type": "code",
   "execution_count": 5,
   "metadata": {
    "scrolled": true
   },
   "outputs": [
    {
     "data": {
      "text/html": [
       "<table>\n",
       "<thead><tr><th></th><th scope=col>fips</th><th scope=col>pop1970</th><th scope=col>pop1971</th><th scope=col>pop1972</th><th scope=col>pop1973</th><th scope=col>pop1974</th><th scope=col>pop1975</th><th scope=col>pop1976</th><th scope=col>pop1977</th><th scope=col>pop1978</th><th scope=col>...</th><th scope=col>pop2000</th><th scope=col>pop2001</th><th scope=col>pop2002</th><th scope=col>pop2003</th><th scope=col>pop2004</th><th scope=col>pop2005</th><th scope=col>pop2006</th><th scope=col>pop2007</th><th scope=col>pop2008</th><th scope=col>pop2009</th></tr></thead>\n",
       "<tbody>\n",
       "\t<tr><th scope=row>2</th><td>1003  </td><td> 59382</td><td> 60100</td><td> 62400</td><td> 64200</td><td> 66100</td><td> 67900</td><td> 70200</td><td> 72400</td><td> 74500</td><td>...   </td><td>141358</td><td>144988</td><td>148141</td><td>151707</td><td>156573</td><td>162564</td><td>168516</td><td>172815</td><td>176212</td><td>179878</td></tr>\n",
       "\t<tr><th scope=row>3</th><td>1005  </td><td> 22543</td><td> 23100</td><td> 22900</td><td> 23500</td><td> 23400</td><td> 24900</td><td> 25600</td><td> 24700</td><td> 24500</td><td>...   </td><td> 29035</td><td> 29223</td><td> 29289</td><td> 29480</td><td> 29458</td><td> 29452</td><td> 29556</td><td> 29736</td><td> 29836</td><td> 29737</td></tr>\n",
       "\t<tr><th scope=row>4</th><td>1007  </td><td> 13812</td><td> 13900</td><td> 14100</td><td> 14700</td><td> 14400</td><td> 14800</td><td> 14800</td><td> 15300</td><td> 15400</td><td>...   </td><td> 19936</td><td> 20942</td><td> 20983</td><td> 21037</td><td> 21208</td><td> 21375</td><td> 21285</td><td> 21485</td><td> 21589</td><td> 21587</td></tr>\n",
       "\t<tr><th scope=row>5</th><td>1009  </td><td> 26853</td><td> 27800</td><td> 29300</td><td> 30400</td><td> 31500</td><td> 32200</td><td> 33000</td><td> 34200</td><td> 34800</td><td>...   </td><td> 51181</td><td> 51999</td><td> 52775</td><td> 53726</td><td> 54469</td><td> 55035</td><td> 55978</td><td> 56866</td><td> 57794</td><td> 58345</td></tr>\n",
       "\t<tr><th scope=row>6</th><td>1011  </td><td> 11824</td><td> 11400</td><td> 11400</td><td> 11300</td><td> 11100</td><td> 11100</td><td> 11100</td><td> 11000</td><td> 11000</td><td>...   </td><td> 11604</td><td> 11381</td><td> 11261</td><td> 11305</td><td> 11038</td><td> 10975</td><td> 10739</td><td> 10966</td><td> 10921</td><td> 10985</td></tr>\n",
       "\t<tr><th scope=row>7</th><td>1013  </td><td> 22007</td><td> 21800</td><td> 21500</td><td> 21200</td><td> 21200</td><td> 21200</td><td> 21400</td><td> 20900</td><td> 20900</td><td>...   </td><td> 21313</td><td> 21036</td><td> 20607</td><td> 20536</td><td> 20476</td><td> 20338</td><td> 20231</td><td> 20243</td><td> 20171</td><td> 19964</td></tr>\n",
       "\t<tr><th scope=row>8</th><td>1015  </td><td>103092</td><td>103600</td><td>103800</td><td>105000</td><td>105900</td><td>107000</td><td>112800</td><td>112800</td><td>116500</td><td>...   </td><td>111342</td><td>111019</td><td>110860</td><td>111378</td><td>111615</td><td>112081</td><td>112453</td><td>112808</td><td>113422</td><td>114081</td></tr>\n",
       "\t<tr><th scope=row>9</th><td>1017  </td><td> 36356</td><td> 36300</td><td> 36100</td><td> 37000</td><td> 37500</td><td> 37500</td><td> 37900</td><td> 38400</td><td> 38700</td><td>...   </td><td> 36593</td><td> 36281</td><td> 35952</td><td> 35626</td><td> 35387</td><td> 35173</td><td> 34822</td><td> 34731</td><td> 34473</td><td> 34320</td></tr>\n",
       "\t<tr><th scope=row>10</th><td>1019  </td><td> 15606</td><td> 16500</td><td> 16900</td><td> 17200</td><td> 17700</td><td> 18100</td><td> 18600</td><td> 18400</td><td> 18600</td><td>...   </td><td> 24053</td><td> 24078</td><td> 24143</td><td> 24159</td><td> 24291</td><td> 24268</td><td> 24531</td><td> 24474</td><td> 24413</td><td> 24448</td></tr>\n",
       "\t<tr><th scope=row>11</th><td>1021  </td><td> 25180</td><td> 25600</td><td> 26400</td><td> 27200</td><td> 27900</td><td> 28600</td><td> 29100</td><td> 29300</td><td> 29900</td><td>...   </td><td> 39781</td><td> 40030</td><td> 40460</td><td> 40776</td><td> 41170</td><td> 41510</td><td> 41821</td><td> 42362</td><td> 42696</td><td> 42971</td></tr>\n",
       "</tbody>\n",
       "</table>\n"
      ],
      "text/latex": [
       "\\begin{tabular}{r|lllllllllllllllllllllllllllllllllllllllll}\n",
       "  & fips & pop1970 & pop1971 & pop1972 & pop1973 & pop1974 & pop1975 & pop1976 & pop1977 & pop1978 & ... & pop2000 & pop2001 & pop2002 & pop2003 & pop2004 & pop2005 & pop2006 & pop2007 & pop2008 & pop2009\\\\\n",
       "\\hline\n",
       "\t2 & 1003   &  59382 &  60100 &  62400 &  64200 &  66100 &  67900 &  70200 &  72400 &  74500 & ...    & 141358 & 144988 & 148141 & 151707 & 156573 & 162564 & 168516 & 172815 & 176212 & 179878\\\\\n",
       "\t3 & 1005   &  22543 &  23100 &  22900 &  23500 &  23400 &  24900 &  25600 &  24700 &  24500 & ...    &  29035 &  29223 &  29289 &  29480 &  29458 &  29452 &  29556 &  29736 &  29836 &  29737\\\\\n",
       "\t4 & 1007   &  13812 &  13900 &  14100 &  14700 &  14400 &  14800 &  14800 &  15300 &  15400 & ...    &  19936 &  20942 &  20983 &  21037 &  21208 &  21375 &  21285 &  21485 &  21589 &  21587\\\\\n",
       "\t5 & 1009   &  26853 &  27800 &  29300 &  30400 &  31500 &  32200 &  33000 &  34200 &  34800 & ...    &  51181 &  51999 &  52775 &  53726 &  54469 &  55035 &  55978 &  56866 &  57794 &  58345\\\\\n",
       "\t6 & 1011   &  11824 &  11400 &  11400 &  11300 &  11100 &  11100 &  11100 &  11000 &  11000 & ...    &  11604 &  11381 &  11261 &  11305 &  11038 &  10975 &  10739 &  10966 &  10921 &  10985\\\\\n",
       "\t7 & 1013   &  22007 &  21800 &  21500 &  21200 &  21200 &  21200 &  21400 &  20900 &  20900 & ...    &  21313 &  21036 &  20607 &  20536 &  20476 &  20338 &  20231 &  20243 &  20171 &  19964\\\\\n",
       "\t8 & 1015   & 103092 & 103600 & 103800 & 105000 & 105900 & 107000 & 112800 & 112800 & 116500 & ...    & 111342 & 111019 & 110860 & 111378 & 111615 & 112081 & 112453 & 112808 & 113422 & 114081\\\\\n",
       "\t9 & 1017   &  36356 &  36300 &  36100 &  37000 &  37500 &  37500 &  37900 &  38400 &  38700 & ...    &  36593 &  36281 &  35952 &  35626 &  35387 &  35173 &  34822 &  34731 &  34473 &  34320\\\\\n",
       "\t10 & 1019   &  15606 &  16500 &  16900 &  17200 &  17700 &  18100 &  18600 &  18400 &  18600 & ...    &  24053 &  24078 &  24143 &  24159 &  24291 &  24268 &  24531 &  24474 &  24413 &  24448\\\\\n",
       "\t11 & 1021   &  25180 &  25600 &  26400 &  27200 &  27900 &  28600 &  29100 &  29300 &  29900 & ...    &  39781 &  40030 &  40460 &  40776 &  41170 &  41510 &  41821 &  42362 &  42696 &  42971\\\\\n",
       "\\end{tabular}\n"
      ],
      "text/markdown": [
       "\n",
       "| <!--/--> | fips | pop1970 | pop1971 | pop1972 | pop1973 | pop1974 | pop1975 | pop1976 | pop1977 | pop1978 | ... | pop2000 | pop2001 | pop2002 | pop2003 | pop2004 | pop2005 | pop2006 | pop2007 | pop2008 | pop2009 | \n",
       "|---|---|---|---|---|---|---|---|---|---|\n",
       "| 2 | 1003   |  59382 |  60100 |  62400 |  64200 |  66100 |  67900 |  70200 |  72400 |  74500 | ...    | 141358 | 144988 | 148141 | 151707 | 156573 | 162564 | 168516 | 172815 | 176212 | 179878 | \n",
       "| 3 | 1005   |  22543 |  23100 |  22900 |  23500 |  23400 |  24900 |  25600 |  24700 |  24500 | ...    |  29035 |  29223 |  29289 |  29480 |  29458 |  29452 |  29556 |  29736 |  29836 |  29737 | \n",
       "| 4 | 1007   |  13812 |  13900 |  14100 |  14700 |  14400 |  14800 |  14800 |  15300 |  15400 | ...    |  19936 |  20942 |  20983 |  21037 |  21208 |  21375 |  21285 |  21485 |  21589 |  21587 | \n",
       "| 5 | 1009   |  26853 |  27800 |  29300 |  30400 |  31500 |  32200 |  33000 |  34200 |  34800 | ...    |  51181 |  51999 |  52775 |  53726 |  54469 |  55035 |  55978 |  56866 |  57794 |  58345 | \n",
       "| 6 | 1011   |  11824 |  11400 |  11400 |  11300 |  11100 |  11100 |  11100 |  11000 |  11000 | ...    |  11604 |  11381 |  11261 |  11305 |  11038 |  10975 |  10739 |  10966 |  10921 |  10985 | \n",
       "| 7 | 1013   |  22007 |  21800 |  21500 |  21200 |  21200 |  21200 |  21400 |  20900 |  20900 | ...    |  21313 |  21036 |  20607 |  20536 |  20476 |  20338 |  20231 |  20243 |  20171 |  19964 | \n",
       "| 8 | 1015   | 103092 | 103600 | 103800 | 105000 | 105900 | 107000 | 112800 | 112800 | 116500 | ...    | 111342 | 111019 | 110860 | 111378 | 111615 | 112081 | 112453 | 112808 | 113422 | 114081 | \n",
       "| 9 | 1017   |  36356 |  36300 |  36100 |  37000 |  37500 |  37500 |  37900 |  38400 |  38700 | ...    |  36593 |  36281 |  35952 |  35626 |  35387 |  35173 |  34822 |  34731 |  34473 |  34320 | \n",
       "| 10 | 1019   |  15606 |  16500 |  16900 |  17200 |  17700 |  18100 |  18600 |  18400 |  18600 | ...    |  24053 |  24078 |  24143 |  24159 |  24291 |  24268 |  24531 |  24474 |  24413 |  24448 | \n",
       "| 11 | 1021   |  25180 |  25600 |  26400 |  27200 |  27900 |  28600 |  29100 |  29300 |  29900 | ...    |  39781 |  40030 |  40460 |  40776 |  41170 |  41510 |  41821 |  42362 |  42696 |  42971 | \n",
       "\n",
       "\n"
      ],
      "text/plain": [
       "   fips pop1970 pop1971 pop1972 pop1973 pop1974 pop1975 pop1976 pop1977 pop1978\n",
       "2  1003  59382   60100   62400   64200   66100   67900   70200   72400   74500 \n",
       "3  1005  22543   23100   22900   23500   23400   24900   25600   24700   24500 \n",
       "4  1007  13812   13900   14100   14700   14400   14800   14800   15300   15400 \n",
       "5  1009  26853   27800   29300   30400   31500   32200   33000   34200   34800 \n",
       "6  1011  11824   11400   11400   11300   11100   11100   11100   11000   11000 \n",
       "7  1013  22007   21800   21500   21200   21200   21200   21400   20900   20900 \n",
       "8  1015 103092  103600  103800  105000  105900  107000  112800  112800  116500 \n",
       "9  1017  36356   36300   36100   37000   37500   37500   37900   38400   38700 \n",
       "10 1019  15606   16500   16900   17200   17700   18100   18600   18400   18600 \n",
       "11 1021  25180   25600   26400   27200   27900   28600   29100   29300   29900 \n",
       "   ... pop2000 pop2001 pop2002 pop2003 pop2004 pop2005 pop2006 pop2007 pop2008\n",
       "2  ... 141358  144988  148141  151707  156573  162564  168516  172815  176212 \n",
       "3  ...  29035   29223   29289   29480   29458   29452   29556   29736   29836 \n",
       "4  ...  19936   20942   20983   21037   21208   21375   21285   21485   21589 \n",
       "5  ...  51181   51999   52775   53726   54469   55035   55978   56866   57794 \n",
       "6  ...  11604   11381   11261   11305   11038   10975   10739   10966   10921 \n",
       "7  ...  21313   21036   20607   20536   20476   20338   20231   20243   20171 \n",
       "8  ... 111342  111019  110860  111378  111615  112081  112453  112808  113422 \n",
       "9  ...  36593   36281   35952   35626   35387   35173   34822   34731   34473 \n",
       "10 ...  24053   24078   24143   24159   24291   24268   24531   24474   24413 \n",
       "11 ...  39781   40030   40460   40776   41170   41510   41821   42362   42696 \n",
       "   pop2009\n",
       "2  179878 \n",
       "3   29737 \n",
       "4   21587 \n",
       "5   58345 \n",
       "6   10985 \n",
       "7   19964 \n",
       "8  114081 \n",
       "9   34320 \n",
       "10  24448 \n",
       "11  42971 "
      ]
     },
     "metadata": {},
     "output_type": "display_data"
    }
   ],
   "source": [
    "head(pop_data_2_df, 10)"
   ]
  },
  {
   "cell_type": "code",
   "execution_count": 6,
   "metadata": {
    "collapsed": true
   },
   "outputs": [],
   "source": [
    "voter_turnout_path <- \"turnout_rates_1980_2014.csv\"\n",
    "voter_turnout_df <- read.csv(voter_turnout_path, skip = 1)\n",
    "voter_turnout_df <- voter_turnout_df[-1, ]\n",
    "voter_turnout_df <- voter_turnout_df %>%\n",
    "    select(Year, X, Voting.Eligible.Population..VEP.)\n",
    "colnames(voter_turnout_df) <- c(\"Year\", \"State\", \"VEP\")\n",
    "voter_turnout_df$State <- tolower(voter_turnout_df$State)\n",
    "voter_turnout_df$VEP <- as.numeric(gsub(\",\", \"\", voter_turnout_df$VEP))"
   ]
  },
  {
   "cell_type": "code",
   "execution_count": 7,
   "metadata": {},
   "outputs": [
    {
     "data": {
      "text/html": [
       "<table>\n",
       "<thead><tr><th></th><th scope=col>Year</th><th scope=col>State</th><th scope=col>VEP</th></tr></thead>\n",
       "<tbody>\n",
       "\t<tr><th scope=row>2</th><td>2014      </td><td>alabama   </td><td> 3588783  </td></tr>\n",
       "\t<tr><th scope=row>3</th><td>2014      </td><td>alaska    </td><td>  520562  </td></tr>\n",
       "\t<tr><th scope=row>4</th><td>2014      </td><td>arizona   </td><td> 4510186  </td></tr>\n",
       "\t<tr><th scope=row>5</th><td>2014      </td><td>arkansas  </td><td> 2117881  </td></tr>\n",
       "\t<tr><th scope=row>6</th><td>2014      </td><td>california</td><td>24440416  </td></tr>\n",
       "\t<tr><th scope=row>7</th><td>2014      </td><td>colorado  </td><td> 3800664  </td></tr>\n",
       "</tbody>\n",
       "</table>\n"
      ],
      "text/latex": [
       "\\begin{tabular}{r|lll}\n",
       "  & Year & State & VEP\\\\\n",
       "\\hline\n",
       "\t2 & 2014       & alabama    &  3588783  \\\\\n",
       "\t3 & 2014       & alaska     &   520562  \\\\\n",
       "\t4 & 2014       & arizona    &  4510186  \\\\\n",
       "\t5 & 2014       & arkansas   &  2117881  \\\\\n",
       "\t6 & 2014       & california & 24440416  \\\\\n",
       "\t7 & 2014       & colorado   &  3800664  \\\\\n",
       "\\end{tabular}\n"
      ],
      "text/markdown": [
       "\n",
       "| <!--/--> | Year | State | VEP | \n",
       "|---|---|---|---|---|---|\n",
       "| 2 | 2014       | alabama    |  3588783   | \n",
       "| 3 | 2014       | alaska     |   520562   | \n",
       "| 4 | 2014       | arizona    |  4510186   | \n",
       "| 5 | 2014       | arkansas   |  2117881   | \n",
       "| 6 | 2014       | california | 24440416   | \n",
       "| 7 | 2014       | colorado   |  3800664   | \n",
       "\n",
       "\n"
      ],
      "text/plain": [
       "  Year State      VEP     \n",
       "2 2014 alabama     3588783\n",
       "3 2014 alaska       520562\n",
       "4 2014 arizona     4510186\n",
       "5 2014 arkansas    2117881\n",
       "6 2014 california 24440416\n",
       "7 2014 colorado    3800664"
      ]
     },
     "metadata": {},
     "output_type": "display_data"
    }
   ],
   "source": [
    "head(voter_turnout_df)"
   ]
  },
  {
   "cell_type": "code",
   "execution_count": 8,
   "metadata": {
    "collapsed": true
   },
   "outputs": [],
   "source": [
    "election_data_path = \"US_Presidential_Election_1960_2016/data/processed/full-us-presidential-counties-1960-2016.tsv\"\n",
    "full_election_df <- read.table(file = election_data_path, sep = \"\\t\", header = TRUE, quote = \"\")\n",
    "full_election_df$state.name <- as.character(full_election_df$state.name)\n",
    "full_election_df$county.name <- as.character(full_election_df$county.name)\n",
    "full_election_df <- full_election_df %>%\n",
    "    select(year, county.name, state.name, party, vote.percent, vote.count)"
   ]
  },
  {
   "cell_type": "code",
   "execution_count": 9,
   "metadata": {
    "scrolled": false
   },
   "outputs": [
    {
     "data": {
      "text/html": [
       "<table>\n",
       "<thead><tr><th scope=col>year</th><th scope=col>county.name</th><th scope=col>state.name</th><th scope=col>party</th><th scope=col>vote.percent</th><th scope=col>vote.count</th></tr></thead>\n",
       "<tbody>\n",
       "\t<tr><td>1960          </td><td>abbeville     </td><td>south carolina</td><td>D             </td><td>78.4          </td><td>3064          </td></tr>\n",
       "\t<tr><td>1960          </td><td>abbeville     </td><td>south carolina</td><td>O             </td><td> 0.0          </td><td>   0          </td></tr>\n",
       "\t<tr><td>1960          </td><td>abbeville     </td><td>south carolina</td><td>R             </td><td>21.6          </td><td> 845          </td></tr>\n",
       "\t<tr><td>1964          </td><td>abbeville     </td><td>south carolina</td><td>D             </td><td>65.0          </td><td>2689          </td></tr>\n",
       "\t<tr><td>1964          </td><td>abbeville     </td><td>south carolina</td><td>O             </td><td> 0.0          </td><td>   0          </td></tr>\n",
       "\t<tr><td>1964          </td><td>abbeville     </td><td>south carolina</td><td>R             </td><td>35.0          </td><td>1448          </td></tr>\n",
       "</tbody>\n",
       "</table>\n"
      ],
      "text/latex": [
       "\\begin{tabular}{r|llllll}\n",
       " year & county.name & state.name & party & vote.percent & vote.count\\\\\n",
       "\\hline\n",
       "\t 1960           & abbeville      & south carolina & D              & 78.4           & 3064          \\\\\n",
       "\t 1960           & abbeville      & south carolina & O              &  0.0           &    0          \\\\\n",
       "\t 1960           & abbeville      & south carolina & R              & 21.6           &  845          \\\\\n",
       "\t 1964           & abbeville      & south carolina & D              & 65.0           & 2689          \\\\\n",
       "\t 1964           & abbeville      & south carolina & O              &  0.0           &    0          \\\\\n",
       "\t 1964           & abbeville      & south carolina & R              & 35.0           & 1448          \\\\\n",
       "\\end{tabular}\n"
      ],
      "text/markdown": [
       "\n",
       "year | county.name | state.name | party | vote.percent | vote.count | \n",
       "|---|---|---|---|---|---|\n",
       "| 1960           | abbeville      | south carolina | D              | 78.4           | 3064           | \n",
       "| 1960           | abbeville      | south carolina | O              |  0.0           |    0           | \n",
       "| 1960           | abbeville      | south carolina | R              | 21.6           |  845           | \n",
       "| 1964           | abbeville      | south carolina | D              | 65.0           | 2689           | \n",
       "| 1964           | abbeville      | south carolina | O              |  0.0           |    0           | \n",
       "| 1964           | abbeville      | south carolina | R              | 35.0           | 1448           | \n",
       "\n",
       "\n"
      ],
      "text/plain": [
       "  year county.name state.name     party vote.percent vote.count\n",
       "1 1960 abbeville   south carolina D     78.4         3064      \n",
       "2 1960 abbeville   south carolina O      0.0            0      \n",
       "3 1960 abbeville   south carolina R     21.6          845      \n",
       "4 1964 abbeville   south carolina D     65.0         2689      \n",
       "5 1964 abbeville   south carolina O      0.0            0      \n",
       "6 1964 abbeville   south carolina R     35.0         1448      "
      ]
     },
     "metadata": {},
     "output_type": "display_data"
    }
   ],
   "source": [
    "head(full_election_df)"
   ]
  },
  {
   "cell_type": "code",
   "execution_count": 10,
   "metadata": {
    "collapsed": true,
    "scrolled": true
   },
   "outputs": [],
   "source": [
    "demographics_df <- inner_join(full_election_df, voter_turnout_df, by = c(\"year\" = \"Year\", \"state.name\" = \"State\"))\n",
    "demographics_df <- demographics_df %>%\n",
    "    filter(party == \"R\") %>%\n",
    "    mutate(county.proportion = vote.count / VEP * 100)"
   ]
  },
  {
   "cell_type": "code",
   "execution_count": 11,
   "metadata": {
    "collapsed": true
   },
   "outputs": [],
   "source": [
    "sentiment_df <- demographics_df %>% \n",
    "    group_by(year) %>%\n",
    "    summarize(national.sentiment = mean(county.proportion))"
   ]
  },
  {
   "cell_type": "code",
   "execution_count": 12,
   "metadata": {
    "collapsed": true
   },
   "outputs": [],
   "source": [
    "demographics_df <- inner_join(demographics_df, sentiment_df, by = \"year\") \n",
    "demographics_df <- demographics_df %>% \n",
    "    mutate(county.sentiment = county.proportion / national.sentiment) %>%\n",
    "    select(year, state.name, county.name, county.sentiment) %>%\n",
    "    mutate(full.name = paste(state.name, county.name, sep = \" - \"))"
   ]
  },
  {
   "cell_type": "code",
   "execution_count": 13,
   "metadata": {},
   "outputs": [
    {
     "data": {
      "text/html": [
       "<table>\n",
       "<thead><tr><th scope=col>year</th><th scope=col>state.name</th><th scope=col>county.name</th><th scope=col>county.sentiment</th><th scope=col>full.name</th></tr></thead>\n",
       "<tbody>\n",
       "\t<tr><td>1980                      </td><td>south carolina            </td><td>abbeville                 </td><td>0.2334300                 </td><td>south carolina - abbeville</td></tr>\n",
       "\t<tr><td>1984                      </td><td>south carolina            </td><td>abbeville                 </td><td>0.3005712                 </td><td>south carolina - abbeville</td></tr>\n",
       "\t<tr><td>1988                      </td><td>south carolina            </td><td>abbeville                 </td><td>0.3245284                 </td><td>south carolina - abbeville</td></tr>\n",
       "\t<tr><td>1992                      </td><td>south carolina            </td><td>abbeville                 </td><td>0.3506537                 </td><td>south carolina - abbeville</td></tr>\n",
       "\t<tr><td>1996                      </td><td>south carolina            </td><td>abbeville                 </td><td>0.3179338                 </td><td>south carolina - abbeville</td></tr>\n",
       "\t<tr><td>2000                      </td><td>south carolina            </td><td>abbeville                 </td><td>0.3424929                 </td><td>south carolina - abbeville</td></tr>\n",
       "\t<tr><td>2004                      </td><td>south carolina            </td><td>abbeville                 </td><td>0.3433356                 </td><td>south carolina - abbeville</td></tr>\n",
       "\t<tr><td>2008                      </td><td>south carolina            </td><td>abbeville                 </td><td>0.4000848                 </td><td>south carolina - abbeville</td></tr>\n",
       "\t<tr><td>2012                      </td><td>south carolina            </td><td>abbeville                 </td><td>0.3659792                 </td><td>south carolina - abbeville</td></tr>\n",
       "\t<tr><td>1980                      </td><td>louisiana                 </td><td>acadia                    </td><td>0.8651803                 </td><td>louisiana - acadia        </td></tr>\n",
       "</tbody>\n",
       "</table>\n"
      ],
      "text/latex": [
       "\\begin{tabular}{r|lllll}\n",
       " year & state.name & county.name & county.sentiment & full.name\\\\\n",
       "\\hline\n",
       "\t 1980                       & south carolina             & abbeville                  & 0.2334300                  & south carolina - abbeville\\\\\n",
       "\t 1984                       & south carolina             & abbeville                  & 0.3005712                  & south carolina - abbeville\\\\\n",
       "\t 1988                       & south carolina             & abbeville                  & 0.3245284                  & south carolina - abbeville\\\\\n",
       "\t 1992                       & south carolina             & abbeville                  & 0.3506537                  & south carolina - abbeville\\\\\n",
       "\t 1996                       & south carolina             & abbeville                  & 0.3179338                  & south carolina - abbeville\\\\\n",
       "\t 2000                       & south carolina             & abbeville                  & 0.3424929                  & south carolina - abbeville\\\\\n",
       "\t 2004                       & south carolina             & abbeville                  & 0.3433356                  & south carolina - abbeville\\\\\n",
       "\t 2008                       & south carolina             & abbeville                  & 0.4000848                  & south carolina - abbeville\\\\\n",
       "\t 2012                       & south carolina             & abbeville                  & 0.3659792                  & south carolina - abbeville\\\\\n",
       "\t 1980                       & louisiana                  & acadia                     & 0.8651803                  & louisiana - acadia        \\\\\n",
       "\\end{tabular}\n"
      ],
      "text/markdown": [
       "\n",
       "year | state.name | county.name | county.sentiment | full.name | \n",
       "|---|---|---|---|---|---|---|---|---|---|\n",
       "| 1980                       | south carolina             | abbeville                  | 0.2334300                  | south carolina - abbeville | \n",
       "| 1984                       | south carolina             | abbeville                  | 0.3005712                  | south carolina - abbeville | \n",
       "| 1988                       | south carolina             | abbeville                  | 0.3245284                  | south carolina - abbeville | \n",
       "| 1992                       | south carolina             | abbeville                  | 0.3506537                  | south carolina - abbeville | \n",
       "| 1996                       | south carolina             | abbeville                  | 0.3179338                  | south carolina - abbeville | \n",
       "| 2000                       | south carolina             | abbeville                  | 0.3424929                  | south carolina - abbeville | \n",
       "| 2004                       | south carolina             | abbeville                  | 0.3433356                  | south carolina - abbeville | \n",
       "| 2008                       | south carolina             | abbeville                  | 0.4000848                  | south carolina - abbeville | \n",
       "| 2012                       | south carolina             | abbeville                  | 0.3659792                  | south carolina - abbeville | \n",
       "| 1980                       | louisiana                  | acadia                     | 0.8651803                  | louisiana - acadia         | \n",
       "\n",
       "\n"
      ],
      "text/plain": [
       "   year state.name     county.name county.sentiment full.name                 \n",
       "1  1980 south carolina abbeville   0.2334300        south carolina - abbeville\n",
       "2  1984 south carolina abbeville   0.3005712        south carolina - abbeville\n",
       "3  1988 south carolina abbeville   0.3245284        south carolina - abbeville\n",
       "4  1992 south carolina abbeville   0.3506537        south carolina - abbeville\n",
       "5  1996 south carolina abbeville   0.3179338        south carolina - abbeville\n",
       "6  2000 south carolina abbeville   0.3424929        south carolina - abbeville\n",
       "7  2004 south carolina abbeville   0.3433356        south carolina - abbeville\n",
       "8  2008 south carolina abbeville   0.4000848        south carolina - abbeville\n",
       "9  2012 south carolina abbeville   0.3659792        south carolina - abbeville\n",
       "10 1980 louisiana      acadia      0.8651803        louisiana - acadia        "
      ]
     },
     "metadata": {},
     "output_type": "display_data"
    }
   ],
   "source": [
    "head(demographics_df, 10)"
   ]
  },
  {
   "cell_type": "code",
   "execution_count": 99,
   "metadata": {},
   "outputs": [
    {
     "data": {},
     "metadata": {},
     "output_type": "display_data"
    },
    {
     "data": {
      "image/png": "[encoded data removed]",
      "text/plain": [
       "plot without title"
      ]
     },
     "metadata": {},
     "output_type": "display_data"
    }
   ],
   "source": [
    "plot_df <- demographics_df %>%\n",
    "    filter(full.name %in% sample(full.name, 5))\n",
    "ggplot(data = plot_df, aes(x = year, y = county.sentiment, colour = full.name)) + geom_point()"
   ]
  },
  {
   "cell_type": "code",
   "execution_count": 52,
   "metadata": {},
   "outputs": [],
   "source": [
    "year_to_select <- 1980\n",
    "\n",
    "data_to_plot_df <- demographics_df %>%\n",
    "    filter(year == year_to_select) %>%\n",
    "    select(state.name, county.name, county.sentiment)\n",
    "\n",
    "data_to_plot_df$breaks <- cut(data_to_plot_df$county.sentiment, \n",
    "                       breaks <- c(0, 0.1, 0.15, 0.2, 0.3, 0.4, 0.5, 0.75, 1, 2, 3, 4, 5, 1000),\n",
    "                       lebels <- c(\"< 0.10\", \"0.10 - 0.15\", \"0.15 - 0.20\", \"0.20 - 0.30\",\n",
    "                                   \"0.30 - 0.40\",\"0.40 - 0.50\", \"0.50 - 0.75\", \"0.75 - 1\",\n",
    "                                   \"1 - 2\", \"2 - 3\", \"3 - 4\", \"4 - 5\", \"> 5\"))\n",
    "\n",
    "states <- map_data(\"state\")\n",
    "counties <- map_data(\"county\")\n",
    "\n",
    "spatial_data_df = inner_join(counties, data_to_plot_df, \n",
    "                        by = c(\"subregion\" = \"county.name\", \"region\" = \"state.name\"))"
   ]
  },
  {
   "cell_type": "code",
   "execution_count": 53,
   "metadata": {},
   "outputs": [
    {
     "data": {
      "text/html": [
       "<table>\n",
       "<thead><tr><th scope=col>long</th><th scope=col>lat</th><th scope=col>group</th><th scope=col>order</th><th scope=col>region</th><th scope=col>subregion</th><th scope=col>county.sentiment</th><th scope=col>breaks</th></tr></thead>\n",
       "<tbody>\n",
       "\t<tr><td>-86.50517  </td><td>32.34920   </td><td>1          </td><td>1          </td><td>alabama    </td><td>autauga    </td><td>0.4966914  </td><td>0.40 - 0.50</td></tr>\n",
       "\t<tr><td>-86.53382  </td><td>32.35493   </td><td>1          </td><td>2          </td><td>alabama    </td><td>autauga    </td><td>0.4966914  </td><td>0.40 - 0.50</td></tr>\n",
       "\t<tr><td>-86.54527  </td><td>32.36639   </td><td>1          </td><td>3          </td><td>alabama    </td><td>autauga    </td><td>0.4966914  </td><td>0.40 - 0.50</td></tr>\n",
       "\t<tr><td>-86.55673  </td><td>32.37785   </td><td>1          </td><td>4          </td><td>alabama    </td><td>autauga    </td><td>0.4966914  </td><td>0.40 - 0.50</td></tr>\n",
       "\t<tr><td>-86.57966  </td><td>32.38357   </td><td>1          </td><td>5          </td><td>alabama    </td><td>autauga    </td><td>0.4966914  </td><td>0.40 - 0.50</td></tr>\n",
       "\t<tr><td>-86.59111  </td><td>32.37785   </td><td>1          </td><td>6          </td><td>alabama    </td><td>autauga    </td><td>0.4966914  </td><td>0.40 - 0.50</td></tr>\n",
       "</tbody>\n",
       "</table>\n"
      ],
      "text/latex": [
       "\\begin{tabular}{r|llllllll}\n",
       " long & lat & group & order & region & subregion & county.sentiment & breaks\\\\\n",
       "\\hline\n",
       "\t -86.50517   & 32.34920    & 1           & 1           & alabama     & autauga     & 0.4966914   & 0.40 - 0.50\\\\\n",
       "\t -86.53382   & 32.35493    & 1           & 2           & alabama     & autauga     & 0.4966914   & 0.40 - 0.50\\\\\n",
       "\t -86.54527   & 32.36639    & 1           & 3           & alabama     & autauga     & 0.4966914   & 0.40 - 0.50\\\\\n",
       "\t -86.55673   & 32.37785    & 1           & 4           & alabama     & autauga     & 0.4966914   & 0.40 - 0.50\\\\\n",
       "\t -86.57966   & 32.38357    & 1           & 5           & alabama     & autauga     & 0.4966914   & 0.40 - 0.50\\\\\n",
       "\t -86.59111   & 32.37785    & 1           & 6           & alabama     & autauga     & 0.4966914   & 0.40 - 0.50\\\\\n",
       "\\end{tabular}\n"
      ],
      "text/markdown": [
       "\n",
       "long | lat | group | order | region | subregion | county.sentiment | breaks | \n",
       "|---|---|---|---|---|---|\n",
       "| -86.50517   | 32.34920    | 1           | 1           | alabama     | autauga     | 0.4966914   | 0.40 - 0.50 | \n",
       "| -86.53382   | 32.35493    | 1           | 2           | alabama     | autauga     | 0.4966914   | 0.40 - 0.50 | \n",
       "| -86.54527   | 32.36639    | 1           | 3           | alabama     | autauga     | 0.4966914   | 0.40 - 0.50 | \n",
       "| -86.55673   | 32.37785    | 1           | 4           | alabama     | autauga     | 0.4966914   | 0.40 - 0.50 | \n",
       "| -86.57966   | 32.38357    | 1           | 5           | alabama     | autauga     | 0.4966914   | 0.40 - 0.50 | \n",
       "| -86.59111   | 32.37785    | 1           | 6           | alabama     | autauga     | 0.4966914   | 0.40 - 0.50 | \n",
       "\n",
       "\n"
      ],
      "text/plain": [
       "  long      lat      group order region  subregion county.sentiment breaks     \n",
       "1 -86.50517 32.34920 1     1     alabama autauga   0.4966914        0.40 - 0.50\n",
       "2 -86.53382 32.35493 1     2     alabama autauga   0.4966914        0.40 - 0.50\n",
       "3 -86.54527 32.36639 1     3     alabama autauga   0.4966914        0.40 - 0.50\n",
       "4 -86.55673 32.37785 1     4     alabama autauga   0.4966914        0.40 - 0.50\n",
       "5 -86.57966 32.38357 1     5     alabama autauga   0.4966914        0.40 - 0.50\n",
       "6 -86.59111 32.37785 1     6     alabama autauga   0.4966914        0.40 - 0.50"
      ]
     },
     "metadata": {},
     "output_type": "display_data"
    }
   ],
   "source": [
    "head(spatial_data_df)"
   ]
  },
  {
   "cell_type": "code",
   "execution_count": 103,
   "metadata": {
    "scrolled": false
   },
   "outputs": [
    {
     "data": {},
     "metadata": {},
     "output_type": "display_data"
    },
    {
     "data": {
      "image/png": "[encoded data removed]",
      "text/plain": [
       "plot without title"
      ]
     },
     "metadata": {},
     "output_type": "display_data"
    }
   ],
   "source": [
    "ggplot() +\n",
    "    coord_map(\"albers\", lat0 = 37.5, lat1 = 29.5) + \n",
    "    geom_polygon(data = spatial_data_df, \n",
    "                 aes(x = long, y = lat, group = group, fill = breaks),\n",
    "                 color = \"gray50\", size = 0.05) +\n",
    "    scale_fill_manual(name = \"Sentiment\", values = colorRampPalette(c(\"white\", \"red\"))(13)) +\n",
    "    geom_polygon(data = states, \n",
    "                 aes(x = long, y = lat, group = group), \n",
    "                 fill = NA, color = \"black\") +\n",
    "    theme(plot.title = element_text(color=\"#666666\", face=\"bold\", size=20), \n",
    "          axis.text = element_blank(), \n",
    "          axis.line = element_blank(), \n",
    "          axis.ticks = element_blank(),\n",
    "          axis.title = element_blank(),\n",
    "          legend.position = c(0.95, 0.5),\n",
    "          panel.border = element_blank(), \n",
    "          panel.grid = element_blank(),\n",
    "          panel.background = element_blank()) +\n",
    "    ggtitle(paste(\"Presidential Election of\", year_to_select))"
   ]
  }
 ],
 "metadata": {
  "kernelspec": {
   "display_name": "R",
   "language": "R",
   "name": "ir"
  },
  "language_info": {
   "codemirror_mode": "r",
   "file_extension": ".r",
   "mimetype": "text/x-r-source",
   "name": "R",
   "pygments_lexer": "r",
   "version": "3.4.1"
  }
 },
 "nbformat": 4,
 "nbformat_minor": 2
}
